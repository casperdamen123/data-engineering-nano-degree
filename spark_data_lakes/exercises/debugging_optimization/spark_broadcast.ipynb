{
 "cells": [
  {
   "cell_type": "code",
   "execution_count": 1,
   "metadata": {},
   "outputs": [],
   "source": [
    "from pyspark import SparkContext"
   ]
  },
  {
   "cell_type": "code",
   "execution_count": 2,
   "metadata": {},
   "outputs": [],
   "source": [
    "# Initiate spark context\n",
    "sc = SparkContext('local[*]', 'pyspark')"
   ]
  },
  {
   "cell_type": "code",
   "execution_count": 3,
   "metadata": {},
   "outputs": [
    {
     "name": "stdout",
     "output_type": "stream",
     "text": [
      "['NL', 'DE', 'FR', 'USA']\n"
     ]
    }
   ],
   "source": [
    "# Country codes per name\n",
    "country_codes = {\"Netherlands\": \"NL\", \"Germany\": \"DE\", \"France\": \"FR\", \"United States\": \"USA\"} \n",
    "\n",
    "# Country names\n",
    "countries = [\"Netherlands\", \"Germany\", \"France\", \"United States\"]\n",
    "\n",
    "# Broadcast of mapping country codes and names\n",
    "country_codes_broadcast = sc.broadcast(country_codes)\n",
    "\n",
    "# Function to get country code based on country name\n",
    "def get_country_code(country_name):\n",
    "    return country_codes_broadcast.value[country_name] \n",
    "\n",
    "# Divide countries data over different worker nodes\n",
    "countries_rdd = sc.parallelize(countries)\n",
    "\n",
    "# Use broadcasted data over different nodes to run function on the data in different nodes\n",
    "result = countries_rdd.map(lambda country_name: get_country_code(country_name)).collect()\n",
    "\n",
    "# Print outcome\n",
    "print(result)"
   ]
  }
 ],
 "metadata": {
  "kernelspec": {
   "display_name": "Python 3 (ipykernel)",
   "language": "python",
   "name": "python3"
  },
  "language_info": {
   "codemirror_mode": {
    "name": "ipython",
    "version": 3
   },
   "file_extension": ".py",
   "mimetype": "text/x-python",
   "name": "python",
   "nbconvert_exporter": "python",
   "pygments_lexer": "ipython3",
   "version": "3.9.7"
  }
 },
 "nbformat": 4,
 "nbformat_minor": 4
}
