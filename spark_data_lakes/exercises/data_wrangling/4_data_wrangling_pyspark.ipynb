{
 "cells": [
  {
   "cell_type": "markdown",
   "metadata": {},
   "source": [
    "# Data Wrangling with Spark"
   ]
  },
  {
   "cell_type": "code",
   "execution_count": 111,
   "metadata": {},
   "outputs": [],
   "source": [
    "from pyspark.sql import SparkSession\n",
    "import pyspark.sql.functions as F\n",
    "import pyspark.sql.types as T\n",
    "from pyspark.sql import Window\n",
    "\n",
    "import datetime\n",
    "import numpy as np\n",
    "import pandas as pd\n",
    "%matplotlib inline\n",
    "import matplotlib.pyplot as plt"
   ]
  },
  {
   "cell_type": "code",
   "execution_count": 3,
   "metadata": {},
   "outputs": [],
   "source": [
    "spark = (SparkSession\n",
    "             .builder \n",
    "             .appName(\"wrangling-data\") \n",
    "             .getOrCreate()\n",
    ")"
   ]
  },
  {
   "cell_type": "code",
   "execution_count": 4,
   "metadata": {},
   "outputs": [],
   "source": [
    "path = \"../data/json/sparkify_log_small.json\"\n",
    "user_log = spark.read.json(path)"
   ]
  },
  {
   "cell_type": "markdown",
   "metadata": {},
   "source": [
    "# Data Exploration "
   ]
  },
  {
   "cell_type": "code",
   "execution_count": 5,
   "metadata": {},
   "outputs": [
    {
     "data": {
      "text/plain": [
       "[Row(artist='Showaddywaddy', auth='Logged In', firstName='Kenneth', gender='M', itemInSession=112, lastName='Matthews', length=232.93342, level='paid', location='Charlotte-Concord-Gastonia, NC-SC', method='PUT', page='NextSong', registration=1509380319284, sessionId=5132, song='Christmas Tears Will Fall', status=200, ts=1513720872284, userAgent='\"Mozilla/5.0 (Windows NT 6.1) AppleWebKit/537.36 (KHTML, like Gecko) Chrome/36.0.1985.125 Safari/537.36\"', userId='1046'),\n",
       " Row(artist='Lily Allen', auth='Logged In', firstName='Elizabeth', gender='F', itemInSession=7, lastName='Chase', length=195.23873, level='free', location='Shreveport-Bossier City, LA', method='PUT', page='NextSong', registration=1512718541284, sessionId=5027, song='Cheryl Tweedy', status=200, ts=1513720878284, userAgent='\"Mozilla/5.0 (Windows NT 6.1) AppleWebKit/537.36 (KHTML, like Gecko) Chrome/36.0.1985.143 Safari/537.36\"', userId='1000'),\n",
       " Row(artist='Cobra Starship Featuring Leighton Meester', auth='Logged In', firstName='Vera', gender='F', itemInSession=6, lastName='Blackwell', length=196.20526, level='paid', location='Racine, WI', method='PUT', page='NextSong', registration=1499855749284, sessionId=5516, song='Good Girls Go Bad (Feat.Leighton Meester) (Album Version)', status=200, ts=1513720881284, userAgent='\"Mozilla/5.0 (Macintosh; Intel Mac OS X 10_9_4) AppleWebKit/537.78.2 (KHTML, like Gecko) Version/7.0.6 Safari/537.78.2\"', userId='2219'),\n",
       " Row(artist='Alex Smoke', auth='Logged In', firstName='Sophee', gender='F', itemInSession=8, lastName='Barker', length=405.99465, level='paid', location='San Luis Obispo-Paso Robles-Arroyo Grande, CA', method='PUT', page='NextSong', registration=1513009647284, sessionId=2372, song=\"Don't See The Point\", status=200, ts=1513720905284, userAgent='\"Mozilla/5.0 (Windows NT 6.1; WOW64) AppleWebKit/537.36 (KHTML, like Gecko) Chrome/36.0.1985.143 Safari/537.36\"', userId='2373'),\n",
       " Row(artist=None, auth='Logged In', firstName='Jordyn', gender='F', itemInSession=0, lastName='Jones', length=None, level='free', location='Syracuse, NY', method='GET', page='Home', registration=1513648531284, sessionId=1746, song=None, status=200, ts=1513720913284, userAgent='\"Mozilla/5.0 (Macintosh; Intel Mac OS X 10_9_4) AppleWebKit/537.36 (KHTML, like Gecko) Chrome/37.0.2062.94 Safari/537.36\"', userId='1747')]"
      ]
     },
     "execution_count": 5,
     "metadata": {},
     "output_type": "execute_result"
    }
   ],
   "source": [
    "user_log.take(5)"
   ]
  },
  {
   "cell_type": "code",
   "execution_count": 6,
   "metadata": {},
   "outputs": [
    {
     "name": "stdout",
     "output_type": "stream",
     "text": [
      "root\n",
      " |-- artist: string (nullable = true)\n",
      " |-- auth: string (nullable = true)\n",
      " |-- firstName: string (nullable = true)\n",
      " |-- gender: string (nullable = true)\n",
      " |-- itemInSession: long (nullable = true)\n",
      " |-- lastName: string (nullable = true)\n",
      " |-- length: double (nullable = true)\n",
      " |-- level: string (nullable = true)\n",
      " |-- location: string (nullable = true)\n",
      " |-- method: string (nullable = true)\n",
      " |-- page: string (nullable = true)\n",
      " |-- registration: long (nullable = true)\n",
      " |-- sessionId: long (nullable = true)\n",
      " |-- song: string (nullable = true)\n",
      " |-- status: long (nullable = true)\n",
      " |-- ts: long (nullable = true)\n",
      " |-- userAgent: string (nullable = true)\n",
      " |-- userId: string (nullable = true)\n",
      "\n"
     ]
    }
   ],
   "source": [
    "user_log.printSchema()"
   ]
  },
  {
   "cell_type": "code",
   "execution_count": 7,
   "metadata": {},
   "outputs": [
    {
     "name": "stdout",
     "output_type": "stream",
     "text": [
      "+-------+-----------------+----------+---------+------+------------------+--------+-----------------+-----+------------+------+-------+--------------------+------------------+--------+-----------------+-------------------+--------------------+------------------+\n",
      "|summary|           artist|      auth|firstName|gender|     itemInSession|lastName|           length|level|    location|method|   page|        registration|         sessionId|    song|           status|                 ts|           userAgent|            userId|\n",
      "+-------+-----------------+----------+---------+------+------------------+--------+-----------------+-----+------------+------+-------+--------------------+------------------+--------+-----------------+-------------------+--------------------+------------------+\n",
      "|  count|             8347|     10000|     9664|  9664|             10000|    9664|             8347|10000|        9664| 10000|  10000|                9664|             10000|    8347|            10000|              10000|                9664|             10000|\n",
      "|   mean|            461.0|      null|     null|  null|           19.6734|    null|249.6486587492506| null|        null|  null|   null|1.504695369588739...|         4436.7511|Infinity|         202.8984| 1.5137859954164E12|                null|1442.4413286423842|\n",
      "| stddev|            300.0|      null|     null|  null|25.382114916132608|    null|95.00437130781461| null|        null|  null|   null|  8.47314252131656E9|2043.1281541827561|     NaN|18.04179115450588|3.290828862357974E7|                null| 829.8909432082621|\n",
      "|    min|              !!!|     Guest|   Aakash|     F|                 0| Acevedo|          1.12281| free|Aberdeen, WA|   GET|  About|       1463503881284|                 9|      #1|              200|      1513720872284|\"Mozilla/5.0 (Mac...|                  |\n",
      "|    max|ÃÂlafur Arnalds|Logged Out|     Zoie|     M|               163|  Zuniga|        1806.8371| paid|    Yuma, AZ|   PUT|Upgrade|       1513760702284|              7144|wingless|              404|      1513848349284|Mozilla/5.0 (comp...|               999|\n",
      "+-------+-----------------+----------+---------+------+------------------+--------+-----------------+-----+------------+------+-------+--------------------+------------------+--------+-----------------+-------------------+--------------------+------------------+\n",
      "\n"
     ]
    }
   ],
   "source": [
    "user_log.describe().show()"
   ]
  },
  {
   "cell_type": "code",
   "execution_count": 8,
   "metadata": {},
   "outputs": [
    {
     "name": "stdout",
     "output_type": "stream",
     "text": [
      "+-------+-----------------+\n",
      "|summary|           artist|\n",
      "+-------+-----------------+\n",
      "|  count|             8347|\n",
      "|   mean|            461.0|\n",
      "| stddev|            300.0|\n",
      "|    min|              !!!|\n",
      "|    max|ÃÂlafur Arnalds|\n",
      "+-------+-----------------+\n",
      "\n"
     ]
    }
   ],
   "source": [
    "user_log.describe(\"artist\").show()"
   ]
  },
  {
   "cell_type": "code",
   "execution_count": 9,
   "metadata": {},
   "outputs": [
    {
     "name": "stdout",
     "output_type": "stream",
     "text": [
      "+-------+------------------+\n",
      "|summary|         sessionId|\n",
      "+-------+------------------+\n",
      "|  count|             10000|\n",
      "|   mean|         4436.7511|\n",
      "| stddev|2043.1281541827561|\n",
      "|    min|                 9|\n",
      "|    max|              7144|\n",
      "+-------+------------------+\n",
      "\n"
     ]
    }
   ],
   "source": [
    "user_log.describe(\"sessionId\").show()"
   ]
  },
  {
   "cell_type": "code",
   "execution_count": 10,
   "metadata": {},
   "outputs": [
    {
     "data": {
      "text/plain": [
       "10000"
      ]
     },
     "execution_count": 10,
     "metadata": {},
     "output_type": "execute_result"
    }
   ],
   "source": [
    "user_log.count()"
   ]
  },
  {
   "cell_type": "code",
   "execution_count": 13,
   "metadata": {},
   "outputs": [
    {
     "name": "stdout",
     "output_type": "stream",
     "text": [
      "+----------------+\n",
      "|            page|\n",
      "+----------------+\n",
      "|           About|\n",
      "|       Downgrade|\n",
      "|           Error|\n",
      "|            Help|\n",
      "|            Home|\n",
      "|           Login|\n",
      "|          Logout|\n",
      "|        NextSong|\n",
      "|   Save Settings|\n",
      "|        Settings|\n",
      "|Submit Downgrade|\n",
      "|  Submit Upgrade|\n",
      "|         Upgrade|\n",
      "+----------------+\n",
      "\n"
     ]
    }
   ],
   "source": [
    "user_log.select(\"page\").dropDuplicates().sort(\"page\").show()"
   ]
  },
  {
   "cell_type": "code",
   "execution_count": 15,
   "metadata": {},
   "outputs": [
    {
     "name": "stdout",
     "output_type": "stream",
     "text": [
      "+------+---------+--------+--------------------+\n",
      "|userId|firstname|    page|                song|\n",
      "+------+---------+--------+--------------------+\n",
      "|  1046|  Kenneth|NextSong|Christmas Tears W...|\n",
      "|  1046|  Kenneth|NextSong|  Be Wary Of A Woman|\n",
      "|  1046|  Kenneth|NextSong|   Public Enemy No.1|\n",
      "|  1046|  Kenneth|NextSong|Reign Of The Tyrants|\n",
      "|  1046|  Kenneth|NextSong|      Father And Son|\n",
      "|  1046|  Kenneth|NextSong|               No. 5|\n",
      "|  1046|  Kenneth|NextSong|           Seventeen|\n",
      "|  1046|  Kenneth|    Home|                null|\n",
      "|  1046|  Kenneth|NextSong|          War on war|\n",
      "|  1046|  Kenneth|NextSong|   Killermont Street|\n",
      "|  1046|  Kenneth|NextSong|        Black & Blue|\n",
      "|  1046|  Kenneth|  Logout|                null|\n",
      "|  1046|  Kenneth|    Home|                null|\n",
      "|  1046|  Kenneth|NextSong|     Heads Will Roll|\n",
      "|  1046|  Kenneth|NextSong|Bleed It Out [Liv...|\n",
      "|  1046|  Kenneth|NextSong|              Clocks|\n",
      "|  1046|  Kenneth|NextSong|           Love Rain|\n",
      "|  1046|  Kenneth|NextSong|Ry Ry's Song (Alb...|\n",
      "|  1046|  Kenneth|NextSong|   The Invisible Man|\n",
      "|  1046|  Kenneth|NextSong|Catch You Baby (S...|\n",
      "+------+---------+--------+--------------------+\n",
      "only showing top 20 rows\n",
      "\n"
     ]
    }
   ],
   "source": [
    "user_log.select([\"userId\", \"firstname\", \"page\", \"song\"]).where(user_log.userId == \"1046\").show()"
   ]
  },
  {
   "cell_type": "markdown",
   "metadata": {},
   "source": [
    "# Calculating Statistics by Hour"
   ]
  },
  {
   "cell_type": "code",
   "execution_count": 17,
   "metadata": {},
   "outputs": [],
   "source": [
    "get_hour = udf(lambda timestamp: datetime.datetime.fromtimestamp(timestamp / 1000.0).hour)"
   ]
  },
  {
   "cell_type": "code",
   "execution_count": 18,
   "metadata": {},
   "outputs": [],
   "source": [
    "user_log = user_log.withColumn(\"hour\", get_hour(user_log.ts))"
   ]
  },
  {
   "cell_type": "code",
   "execution_count": 22,
   "metadata": {},
   "outputs": [
    {
     "data": {
      "text/plain": [
       "Row(artist='Showaddywaddy', auth='Logged In', firstName='Kenneth', gender='M', itemInSession=112, lastName='Matthews', length=232.93342, level='paid', location='Charlotte-Concord-Gastonia, NC-SC', method='PUT', page='NextSong', registration=1509380319284, sessionId=5132, song='Christmas Tears Will Fall', status=200, ts=1513720872284, userAgent='\"Mozilla/5.0 (Windows NT 6.1) AppleWebKit/537.36 (KHTML, like Gecko) Chrome/36.0.1985.125 Safari/537.36\"', userId='1046', hour='22')"
      ]
     },
     "execution_count": 22,
     "metadata": {},
     "output_type": "execute_result"
    }
   ],
   "source": [
    "user_log.head()"
   ]
  },
  {
   "cell_type": "code",
   "execution_count": 29,
   "metadata": {},
   "outputs": [],
   "source": [
    "songs_in_hour = user_log.filter(user_log.page == \"NextSong\").groupBy(user_log.hour).count().orderBy(user_log.hour.cast(\"float\"))"
   ]
  },
  {
   "cell_type": "code",
   "execution_count": 30,
   "metadata": {},
   "outputs": [
    {
     "name": "stdout",
     "output_type": "stream",
     "text": [
      "+----+-----+\n",
      "|hour|count|\n",
      "+----+-----+\n",
      "|   0|  456|\n",
      "|   1|  454|\n",
      "|   2|  382|\n",
      "|   3|  302|\n",
      "|   4|  352|\n",
      "+----+-----+\n",
      "only showing top 5 rows\n",
      "\n"
     ]
    }
   ],
   "source": [
    "songs_in_hour.show(5)"
   ]
  },
  {
   "cell_type": "code",
   "execution_count": 31,
   "metadata": {},
   "outputs": [],
   "source": [
    "songs_in_hour_pd = songs_in_hour.toPandas()\n",
    "songs_in_hour_pd.hour = pd.to_numeric(songs_in_hour_pd.hour)"
   ]
  },
  {
   "cell_type": "code",
   "execution_count": 32,
   "metadata": {},
   "outputs": [
    {
     "data": {
      "image/png": "[encoded data removed]",
      "text/plain": [
       "<Figure size 432x288 with 1 Axes>"
      ]
     },
     "metadata": {
      "needs_background": "light"
     },
     "output_type": "display_data"
    }
   ],
   "source": [
    "plt.scatter(songs_in_hour_pd[\"hour\"], songs_in_hour_pd[\"count\"])\n",
    "plt.xlim(-1, 24);\n",
    "plt.ylim(0, 1.2 * max(songs_in_hour_pd[\"count\"]))\n",
    "plt.xlabel(\"Hour\")\n",
    "plt.ylabel(\"Songs played\");"
   ]
  },
  {
   "cell_type": "markdown",
   "metadata": {},
   "source": [
    "# Drop Rows with Missing Values\n",
    "\n",
    "As you'll see, it turns out there are no missing values in the userID or session columns. But there are userID values that are empty strings."
   ]
  },
  {
   "cell_type": "code",
   "execution_count": 34,
   "metadata": {},
   "outputs": [],
   "source": [
    "user_log_valid = user_log.dropna(how=\"any\", subset=[\"userId\", \"sessionId\"])"
   ]
  },
  {
   "cell_type": "code",
   "execution_count": 35,
   "metadata": {},
   "outputs": [
    {
     "data": {
      "text/plain": [
       "10000"
      ]
     },
     "execution_count": 35,
     "metadata": {},
     "output_type": "execute_result"
    }
   ],
   "source": [
    "user_log_valid.count()"
   ]
  },
  {
   "cell_type": "code",
   "execution_count": 38,
   "metadata": {},
   "outputs": [
    {
     "name": "stdout",
     "output_type": "stream",
     "text": [
      "+------+\n",
      "|userId|\n",
      "+------+\n",
      "|      |\n",
      "|    10|\n",
      "|   100|\n",
      "|  1000|\n",
      "|  1003|\n",
      "|  1005|\n",
      "|  1006|\n",
      "|  1017|\n",
      "|  1019|\n",
      "|  1020|\n",
      "|  1022|\n",
      "|  1025|\n",
      "|  1030|\n",
      "|  1035|\n",
      "|  1037|\n",
      "|   104|\n",
      "|  1040|\n",
      "|  1042|\n",
      "|  1043|\n",
      "|  1046|\n",
      "+------+\n",
      "only showing top 20 rows\n",
      "\n"
     ]
    }
   ],
   "source": [
    "user_log.select(\"userId\").dropDuplicates().sort(\"userId\").show()"
   ]
  },
  {
   "cell_type": "code",
   "execution_count": 39,
   "metadata": {},
   "outputs": [],
   "source": [
    "user_log_valid = user_log_valid.filter(user_log_valid[\"userId\"] != \"\")"
   ]
  },
  {
   "cell_type": "code",
   "execution_count": 40,
   "metadata": {},
   "outputs": [
    {
     "data": {
      "text/plain": [
       "9664"
      ]
     },
     "execution_count": 40,
     "metadata": {},
     "output_type": "execute_result"
    }
   ],
   "source": [
    "user_log_valid.count()"
   ]
  },
  {
   "cell_type": "markdown",
   "metadata": {},
   "source": [
    "# Users Downgrade Their Accounts\n",
    "\n",
    "Find when users downgrade their accounts and then flag those log entries. Then use a window function and cumulative sum to distinguish each user's data as either pre or post downgrade events."
   ]
  },
  {
   "cell_type": "code",
   "execution_count": 75,
   "metadata": {},
   "outputs": [
    {
     "name": "stdout",
     "output_type": "stream",
     "text": [
      "+------+---------+---------+------+-------------+--------+------+-----+--------------------+------+----------------+-------------+---------+----+------+-------------+--------------------+------+----+----------+-----+\n",
      "|artist|     auth|firstName|gender|itemInSession|lastName|length|level|            location|method|            page| registration|sessionId|song|status|           ts|           userAgent|userId|hour|downgraded|phase|\n",
      "+------+---------+---------+------+-------------+--------+------+-----+--------------------+------+----------------+-------------+---------+----+------+-------------+--------------------+------+----+----------+-----+\n",
      "|  null|Logged In|    Kelly|     F|           24|  Newton|  null| paid|Houston-The Woodl...|   PUT|Submit Downgrade|1513283366284|     5931|null|   307|1513768454284|Mozilla/5.0 (Wind...|  1138|  11|         1|    1|\n",
      "+------+---------+---------+------+-------------+--------+------+-----+--------------------+------+----------------+-------------+---------+----+------+-------------+--------------------+------+----+----------+-----+\n",
      "\n"
     ]
    }
   ],
   "source": [
    "user_log_valid.filter(user_log['page'] == 'Submit Downgrade').show()"
   ]
  },
  {
   "cell_type": "code",
   "execution_count": 76,
   "metadata": {},
   "outputs": [
    {
     "name": "stdout",
     "output_type": "stream",
     "text": [
      "+------+---------+--------+-----+--------------------+\n",
      "|userId|firstname|    page|level|                song|\n",
      "+------+---------+--------+-----+--------------------+\n",
      "|  1138|    Kelly|    Home| paid|                null|\n",
      "|  1138|    Kelly|NextSong| paid| Everybody Everybody|\n",
      "|  1138|    Kelly|NextSong| paid|               Gears|\n",
      "|  1138|    Kelly|NextSong| paid|        Use Somebody|\n",
      "|  1138|    Kelly|NextSong| paid|Love Of My Life (...|\n",
      "|  1138|    Kelly|NextSong| paid|Down In The Valle...|\n",
      "|  1138|    Kelly|NextSong| paid|Treat Her Like A ...|\n",
      "|  1138|    Kelly|NextSong| paid|Everybody Thinks ...|\n",
      "|  1138|    Kelly|NextSong| paid|      Fourteen Wives|\n",
      "|  1138|    Kelly|NextSong| paid|   Love On The Rocks|\n",
      "|  1138|    Kelly|NextSong| paid|           Breakeven|\n",
      "|  1138|    Kelly|NextSong| paid|          Leaf House|\n",
      "|  1138|    Kelly|NextSong| paid|       NAISEN KANSSA|\n",
      "|  1138|    Kelly|NextSong| paid|  You're In My Heart|\n",
      "|  1138|    Kelly|NextSong| paid|Roll On Down The ...|\n",
      "|  1138|    Kelly|NextSong| paid|Plasticities (Remix)|\n",
      "|  1138|    Kelly|NextSong| paid|             Secrets|\n",
      "|  1138|    Kelly|NextSong| paid|               Hello|\n",
      "|  1138|    Kelly|NextSong| paid|    I Never Told You|\n",
      "|  1138|    Kelly|NextSong| paid|       Love Break Me|\n",
      "+------+---------+--------+-----+--------------------+\n",
      "only showing top 20 rows\n",
      "\n"
     ]
    }
   ],
   "source": [
    "user_log.select([\"userId\", \"firstname\", \"page\", \"level\", \"song\"]).where(user_log['userId'] == \"1138\").show()"
   ]
  },
  {
   "cell_type": "code",
   "execution_count": 151,
   "metadata": {},
   "outputs": [],
   "source": [
    "flag_downgrade_event = F.udf(lambda page: 1 if page == \"Submit Downgrade\" else 0, T.IntegerType())"
   ]
  },
  {
   "cell_type": "code",
   "execution_count": 45,
   "metadata": {},
   "outputs": [],
   "source": [
    "user_log_valid = user_log_valid.withColumn(\"downgraded\", flag_downgrade_event(\"page\"))"
   ]
  },
  {
   "cell_type": "code",
   "execution_count": 46,
   "metadata": {},
   "outputs": [
    {
     "data": {
      "text/plain": [
       "Row(artist='Showaddywaddy', auth='Logged In', firstName='Kenneth', gender='M', itemInSession=112, lastName='Matthews', length=232.93342, level='paid', location='Charlotte-Concord-Gastonia, NC-SC', method='PUT', page='NextSong', registration=1509380319284, sessionId=5132, song='Christmas Tears Will Fall', status=200, ts=1513720872284, userAgent='\"Mozilla/5.0 (Windows NT 6.1) AppleWebKit/537.36 (KHTML, like Gecko) Chrome/36.0.1985.125 Safari/537.36\"', userId='1046', hour='22', downgraded=0)"
      ]
     },
     "execution_count": 46,
     "metadata": {},
     "output_type": "execute_result"
    }
   ],
   "source": [
    "user_log_valid.head()"
   ]
  },
  {
   "cell_type": "code",
   "execution_count": 48,
   "metadata": {},
   "outputs": [],
   "source": [
    "windowval = Window.partitionBy(\"userId\").orderBy(F.desc(\"ts\")).rangeBetween(Window.unboundedPreceding, 0)"
   ]
  },
  {
   "cell_type": "code",
   "execution_count": 49,
   "metadata": {},
   "outputs": [],
   "source": [
    "user_log_valid = user_log_valid.withColumn(\"phase\", F.sum(\"downgraded\").over(windowval))"
   ]
  },
  {
   "cell_type": "code",
   "execution_count": 77,
   "metadata": {},
   "outputs": [
    {
     "name": "stdout",
     "output_type": "stream",
     "text": [
      "+------+---------+-------------+----------------+-----+-----+\n",
      "|userId|firstname|           ts|            page|level|phase|\n",
      "+------+---------+-------------+----------------+-----+-----+\n",
      "|  1138|    Kelly|1513729066284|            Home| paid|    1|\n",
      "|  1138|    Kelly|1513729066284|        NextSong| paid|    1|\n",
      "|  1138|    Kelly|1513729313284|        NextSong| paid|    1|\n",
      "|  1138|    Kelly|1513729552284|        NextSong| paid|    1|\n",
      "|  1138|    Kelly|1513729783284|        NextSong| paid|    1|\n",
      "|  1138|    Kelly|1513730001284|        NextSong| paid|    1|\n",
      "|  1138|    Kelly|1513730263284|        NextSong| paid|    1|\n",
      "|  1138|    Kelly|1513730518284|        NextSong| paid|    1|\n",
      "|  1138|    Kelly|1513730768284|        NextSong| paid|    1|\n",
      "|  1138|    Kelly|1513731182284|        NextSong| paid|    1|\n",
      "|  1138|    Kelly|1513731435284|        NextSong| paid|    1|\n",
      "|  1138|    Kelly|1513731695284|        NextSong| paid|    1|\n",
      "|  1138|    Kelly|1513731857284|        NextSong| paid|    1|\n",
      "|  1138|    Kelly|1513732160284|        NextSong| paid|    1|\n",
      "|  1138|    Kelly|1513732302284|        NextSong| paid|    1|\n",
      "|  1138|    Kelly|1513732540284|        NextSong| paid|    1|\n",
      "|  1138|    Kelly|1513732770284|        NextSong| paid|    1|\n",
      "|  1138|    Kelly|1513732994284|        NextSong| paid|    1|\n",
      "|  1138|    Kelly|1513733223284|        NextSong| paid|    1|\n",
      "|  1138|    Kelly|1513733456284|        NextSong| paid|    1|\n",
      "|  1138|    Kelly|1513733738284|        NextSong| paid|    1|\n",
      "|  1138|    Kelly|1513733941284|        NextSong| paid|    1|\n",
      "|  1138|    Kelly|1513734289284|        NextSong| paid|    1|\n",
      "|  1138|    Kelly|1513734598284|        NextSong| paid|    1|\n",
      "|  1138|    Kelly|1513734863284|        NextSong| paid|    1|\n",
      "|  1138|    Kelly|1513735174284|        NextSong| paid|    1|\n",
      "|  1138|    Kelly|1513735385284|        NextSong| paid|    1|\n",
      "|  1138|    Kelly|1513736040284|        NextSong| paid|    1|\n",
      "|  1138|    Kelly|1513736237284|        NextSong| paid|    1|\n",
      "|  1138|    Kelly|1513736446284|        NextSong| paid|    1|\n",
      "|  1138|    Kelly|1513736709284|        NextSong| paid|    1|\n",
      "|  1138|    Kelly|1513736915284|        NextSong| paid|    1|\n",
      "|  1138|    Kelly|1513737160284|        NextSong| paid|    1|\n",
      "|  1138|    Kelly|1513737460284|        NextSong| paid|    1|\n",
      "|  1138|    Kelly|1513737728284|        NextSong| paid|    1|\n",
      "|  1138|    Kelly|1513737936284|        NextSong| paid|    1|\n",
      "|  1138|    Kelly|1513738144284|        NextSong| paid|    1|\n",
      "|  1138|    Kelly|1513738197284|            Help| paid|    1|\n",
      "|  1138|    Kelly|1513738432284|        NextSong| paid|    1|\n",
      "|  1138|    Kelly|1513763195284|        NextSong| paid|    1|\n",
      "|  1138|    Kelly|1513763453284|        NextSong| paid|    1|\n",
      "|  1138|    Kelly|1513763622284|        NextSong| paid|    1|\n",
      "|  1138|    Kelly|1513763890284|        NextSong| paid|    1|\n",
      "|  1138|    Kelly|1513764238284|        NextSong| paid|    1|\n",
      "|  1138|    Kelly|1513764462284|        NextSong| paid|    1|\n",
      "|  1138|    Kelly|1513764782284|        NextSong| paid|    1|\n",
      "|  1138|    Kelly|1513765075284|        NextSong| paid|    1|\n",
      "|  1138|    Kelly|1513765075284|            Home| paid|    1|\n",
      "|  1138|    Kelly|1513765448284|        NextSong| paid|    1|\n",
      "|  1138|    Kelly|1513765655284|        NextSong| paid|    1|\n",
      "|  1138|    Kelly|1513765818284|        NextSong| paid|    1|\n",
      "|  1138|    Kelly|1513766091284|        NextSong| paid|    1|\n",
      "|  1138|    Kelly|1513766189284|        NextSong| paid|    1|\n",
      "|  1138|    Kelly|1513766385284|        NextSong| paid|    1|\n",
      "|  1138|    Kelly|1513766599284|        NextSong| paid|    1|\n",
      "|  1138|    Kelly|1513766838284|        NextSong| paid|    1|\n",
      "|  1138|    Kelly|1513767203284|        NextSong| paid|    1|\n",
      "|  1138|    Kelly|1513767413284|        NextSong| paid|    1|\n",
      "|  1138|    Kelly|1513767643284|        NextSong| paid|    1|\n",
      "|  1138|    Kelly|1513768012284|        NextSong| paid|    1|\n",
      "|  1138|    Kelly|1513768242284|        NextSong| paid|    1|\n",
      "|  1138|    Kelly|1513768452284|        NextSong| paid|    1|\n",
      "|  1138|    Kelly|1513768453284|       Downgrade| paid|    1|\n",
      "|  1138|    Kelly|1513768454284|Submit Downgrade| paid|    1|\n",
      "|  1138|    Kelly|1513768456284|            Home| free|    0|\n",
      "|  1138|    Kelly|1513814880284|        NextSong| free|    0|\n",
      "|  1138|    Kelly|1513821430284|            Home| free|    0|\n",
      "|  1138|    Kelly|1513833144284|        NextSong| free|    0|\n",
      "+------+---------+-------------+----------------+-----+-----+\n",
      "\n"
     ]
    }
   ],
   "source": [
    "user_log_valid.select([\"userId\", \"firstname\", \"ts\", \"page\", \"level\", \"phase\"]).where(user_log['userId'] == \"1138\").sort(\"ts\").show(100)"
   ]
  },
  {
   "cell_type": "markdown",
   "metadata": {},
   "source": [
    "# Quiz questions"
   ]
  },
  {
   "cell_type": "markdown",
   "metadata": {},
   "source": [
    "**Which page did user id \"\" (empty string) NOT visit?**\n",
    "\n",
    "Answer: NextSong"
   ]
  },
  {
   "cell_type": "code",
   "execution_count": 72,
   "metadata": {},
   "outputs": [
    {
     "name": "stdout",
     "output_type": "stream",
     "text": [
      "+-----+\n",
      "| page|\n",
      "+-----+\n",
      "| Home|\n",
      "|About|\n",
      "|Login|\n",
      "| Help|\n",
      "+-----+\n",
      "\n"
     ]
    }
   ],
   "source": [
    "user_log.filter(user_log['userId'] == \"\").select(\"page\").dropDuplicates().show()"
   ]
  },
  {
   "cell_type": "markdown",
   "metadata": {},
   "source": [
    "**How many female users do we have in the data set?**\n",
    "\n",
    "Answer: 462"
   ]
  },
  {
   "cell_type": "code",
   "execution_count": 64,
   "metadata": {},
   "outputs": [
    {
     "name": "stdout",
     "output_type": "stream",
     "text": [
      "+------+-----+\n",
      "|gender|count|\n",
      "+------+-----+\n",
      "|     F|  462|\n",
      "|     M|  501|\n",
      "|  null|    1|\n",
      "+------+-----+\n",
      "\n"
     ]
    }
   ],
   "source": [
    "user_log.select(['userId', 'gender']).dropDuplicates().groupBy('gender').count().show()"
   ]
  },
  {
   "cell_type": "markdown",
   "metadata": {},
   "source": [
    "**How many songs were played from the most played artist?**\n",
    "\n",
    "Answer: 83"
   ]
  },
  {
   "cell_type": "code",
   "execution_count": 82,
   "metadata": {},
   "outputs": [
    {
     "name": "stdout",
     "output_type": "stream",
     "text": [
      "+--------------------+-----+\n",
      "|              artist|count|\n",
      "+--------------------+-----+\n",
      "|            Coldplay|   83|\n",
      "|       Kings Of Leon|   69|\n",
      "|Florence + The Ma...|   52|\n",
      "|            BjÃÂ¶rk|   46|\n",
      "|       Dwight Yoakam|   45|\n",
      "|       Justin Bieber|   43|\n",
      "|      The Black Keys|   40|\n",
      "|         OneRepublic|   37|\n",
      "|        Jack Johnson|   36|\n",
      "|                Muse|   36|\n",
      "|           Radiohead|   31|\n",
      "|        Taylor Swift|   29|\n",
      "|Barry Tuckwell/Ac...|   28|\n",
      "|               Train|   28|\n",
      "|          Lily Allen|   28|\n",
      "|          Nickelback|   27|\n",
      "|           Metallica|   27|\n",
      "|           Daft Punk|   27|\n",
      "|          Kanye West|   26|\n",
      "|          John Mayer|   24|\n",
      "+--------------------+-----+\n",
      "only showing top 20 rows\n",
      "\n"
     ]
    }
   ],
   "source": [
    "user_log.filter(user_log[\"page\"] == 'NextSong').groupBy('artist').count().orderBy(F.desc('count')).show()"
   ]
  },
  {
   "cell_type": "markdown",
   "metadata": {},
   "source": [
    "**How many songs do users listen to on average between visiting our home page? Please round your answer to the closest integer**\n",
    "\n",
    "Answer: 7"
   ]
  },
  {
   "cell_type": "code",
   "execution_count": 152,
   "metadata": {},
   "outputs": [
    {
     "name": "stdout",
     "output_type": "stream",
     "text": [
      "+------+--------+-------------+----------+------+\n",
      "|userID|    page|           ts|home_visit|period|\n",
      "+------+--------+-------------+----------+------+\n",
      "|   174|    Home|1513769153284|         1|     1|\n",
      "|   174|NextSong|1513769188284|         0|     1|\n",
      "|   174|NextSong|1513769485284|         0|     1|\n",
      "|   174|NextSong|1513769761284|         0|     1|\n",
      "|   174|NextSong|1513769961284|         0|     1|\n",
      "|   174|NextSong|1513770272284|         0|     1|\n",
      "|   174|NextSong|1513770488284|         0|     1|\n",
      "|   174|NextSong|1513770782284|         0|     1|\n",
      "|   174|NextSong|1513770979284|         0|     1|\n",
      "|   174|    Home|1513834999284|         1|     2|\n",
      "|   174|NextSong|1513835035284|         0|     2|\n",
      "|   174|NextSong|1513835130284|         0|     2|\n",
      "|   174|NextSong|1513835304284|         0|     2|\n",
      "|   174|NextSong|1513835540284|         0|     2|\n",
      "|   174|NextSong|1513835815284|         0|     2|\n",
      "|   174|NextSong|1513836032284|         0|     2|\n",
      "|   174|    Home|1513836034284|         1|     3|\n",
      "|   174|NextSong|1513836355284|         0|     3|\n",
      "|   174|NextSong|1513836558284|         0|     3|\n",
      "|   174|NextSong|1513836791284|         0|     3|\n",
      "|   174|NextSong|1513837024284|         0|     3|\n",
      "|   174|NextSong|1513837319284|         0|     3|\n",
      "|   174|NextSong|1513837490284|         0|     3|\n",
      "|   174|NextSong|1513837808284|         0|     3|\n",
      "|   174|NextSong|1513838011284|         0|     3|\n",
      "|   174|NextSong|1513838406284|         0|     3|\n",
      "|   174|NextSong|1513838694284|         0|     3|\n",
      "|   174|    Home|1513838942284|         1|     4|\n",
      "|   174|NextSong|1513838943284|         0|     4|\n",
      "+------+--------+-------------+----------+------+\n",
      "\n",
      "+------------------+\n",
      "|avg(count(period))|\n",
      "+------------------+\n",
      "|6.9558333333333335|\n",
      "+------------------+\n",
      "\n"
     ]
    }
   ],
   "source": [
    "is_home = F.udf(lambda page: int(page == 'Home'), T.IntegerType())\n",
    "\n",
    "user_window = (Window \n",
    "                   .partitionBy('userID') \n",
    "                   .orderBy(F.asc('ts')) \n",
    "                   .rangeBetween(Window.unboundedPreceding, Window.currentRow)\n",
    ")\n",
    "\n",
    "home_cum_sum = (user_log\n",
    "                    .filter((user_log['page'] == 'NextSong') | (user_log['page'] == 'Home')) \n",
    "                    .select(['userID', 'page', 'ts']) \n",
    "                    .withColumn('home_visit', is_home(F.col('page'))) \n",
    "                    .withColumn('period', F.sum('home_visit').over(user_window))\n",
    ")\n",
    "\n",
    "home_cum_sum.filter(F.col('userId') == '174').show(50)\n",
    "\n",
    "(home_cum_sum\n",
    "     .filter(home_cum_sum['page'] == 'NextSong')\n",
    "     .groupBy('userId', 'period') \n",
    "     .agg({'period':'count'}) \n",
    "     .agg({'count(period)':'avg'})\n",
    "     .show()\n",
    ")"
   ]
  }
 ],
 "metadata": {
  "kernelspec": {
   "display_name": "Python 3 (ipykernel)",
   "language": "python",
   "name": "python3"
  },
  "language_info": {
   "codemirror_mode": {
    "name": "ipython",
    "version": 3
   },
   "file_extension": ".py",
   "mimetype": "text/x-python",
   "name": "python",
   "nbconvert_exporter": "python",
   "pygments_lexer": "ipython3",
   "version": "3.9.7"
  }
 },
 "nbformat": 4,
 "nbformat_minor": 4
}
