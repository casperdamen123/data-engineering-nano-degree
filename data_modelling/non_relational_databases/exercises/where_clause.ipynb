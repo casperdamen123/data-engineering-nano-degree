{
 "cells": [
  {
   "cell_type": "markdown",
   "metadata": {},
   "source": [
    "# Lesson 3 Demo 4: Using the WHERE Clause\n",
    "<img src=\"../../../images/cassandra_logo.png\" width=\"250\" height=\"250\">"
   ]
  },
  {
   "cell_type": "code",
   "execution_count": 48,
   "metadata": {},
   "outputs": [],
   "source": [
    "from src.utils.cassandra.generic_commands import CassandraCommands"
   ]
  },
  {
   "cell_type": "markdown",
   "metadata": {},
   "source": [
    "#### Create a connection to the database"
   ]
  },
  {
   "cell_type": "code",
   "execution_count": 49,
   "metadata": {},
   "outputs": [
    {
     "name": "stdout",
     "output_type": "stream",
     "text": [
      "CassandraCommands class initiated\n",
      "Connection setup with cassandra at 127.0.0.1\n"
     ]
    }
   ],
   "source": [
    "cassandra = CassandraCommands()\n",
    "cassandra.connect('127.0.0.1')"
   ]
  },
  {
   "cell_type": "markdown",
   "metadata": {},
   "source": [
    "#### Create a keyspace to do our work in "
   ]
  },
  {
   "cell_type": "code",
   "execution_count": 50,
   "metadata": {},
   "outputs": [
    {
     "name": "stdout",
     "output_type": "stream",
     "text": [
      "Keyspace named data_engeneering_nano_degree created\n",
      "Connected to keyspace: data_engeneering_nano_degree\n"
     ]
    }
   ],
   "source": [
    "cassandra.create_keyspace('data_engeneering_nano_degree')\n",
    "cassandra.connect_keyspace('data_engeneering_nano_degree')"
   ]
  },
  {
   "cell_type": "markdown",
   "metadata": {},
   "source": [
    "#### Let's imagine we would like to start creating a new Music Library of albums. \n",
    "We want to ask 4 question of our data\n",
    "##### 1. Give me every album in my music library that was released in a 1965 year\n",
    "##### 2. Give me the album that is in my music library that was released in 1965 by \"The Beatles\"\n",
    "##### 3. Give me all the albums released in a given year that was made in London \n",
    "##### 4. Give me the city that the album \"Rubber Soul\" was recorded"
   ]
  },
  {
   "cell_type": "markdown",
   "metadata": {},
   "source": [
    "### Here is our Collection of Data\n",
    "<img src=\"../../../images/primary_key.png\" width=\"650\" height=\"350\">"
   ]
  },
  {
   "cell_type": "markdown",
   "metadata": {},
   "source": [
    "#### How should we model this data? What should be our Primary Key and Partition Key? Since our data is looking for the YEAR let's start with that. From there we will add clustering columns on Artist Name and Album Name."
   ]
  },
  {
   "cell_type": "code",
   "execution_count": 57,
   "metadata": {},
   "outputs": [
    {
     "name": "stdout",
     "output_type": "stream",
     "text": [
      "Error from server: code=2200 [Invalid query] message=\"Table 'data_engeneering_nano_degree.music_library_partition_1' doesn't exist\"\n",
      "Table named music_library_partition_1 created\n"
     ]
    }
   ],
   "source": [
    "cassandra.drop_table(table_name='music_library_partition_1')\n",
    "cassandra.create_table(table_name='music_library_partition_1', schema='(year int, city varchar, artist_name varchar, album_name varchar, PRIMARY KEY (year, artist_name))')"
   ]
  },
  {
   "cell_type": "code",
   "execution_count": 58,
   "metadata": {},
   "outputs": [
    {
     "name": "stdout",
     "output_type": "stream",
     "text": [
      "Dropped table music_library_partition_2\n",
      "Table named music_library_partition_2 created\n"
     ]
    }
   ],
   "source": [
    "cassandra.drop_table(table_name='music_library_partition_2')\n",
    "cassandra.create_table(table_name='music_library_partition_2', schema='(year int, city varchar, artist_name varchar, album_name varchar, PRIMARY KEY (year, city, artist_name))')"
   ]
  },
  {
   "cell_type": "code",
   "execution_count": 59,
   "metadata": {},
   "outputs": [
    {
     "name": "stdout",
     "output_type": "stream",
     "text": [
      "Dropped table music_library_partition_3\n",
      "Table named music_library_partition_3 created\n"
     ]
    }
   ],
   "source": [
    "cassandra.drop_table(table_name='music_library_partition_3')\n",
    "cassandra.create_table(table_name='music_library_partition_3', schema='(year int, city varchar, artist_name varchar, album_name varchar, PRIMARY KEY (album_name))')"
   ]
  },
  {
   "cell_type": "markdown",
   "metadata": {},
   "source": [
    "#### Let's insert our data into of table"
   ]
  },
  {
   "cell_type": "code",
   "execution_count": 60,
   "metadata": {},
   "outputs": [],
   "source": [
    "for i in range(1,4):\n",
    "    cassandra.insert_rows(table_name=f'music_library_partition_{i}', \n",
    "                          columns='(year, city, artist_name, album_name)',\n",
    "                          rows=[\n",
    "                               (1965, 'Oxford', 'The Beatles', 'Rubber Soul'),\n",
    "                               (1970, 'Liverpool', 'The Beatles', 'Let it Be'),\n",
    "                               (1966, 'Los Angeles', 'The Monkees', 'The Monkees'), \n",
    "                               (1970, 'San Diego', 'The Carpenters', 'Close To You'),\n",
    "                               (1965, 'London', 'The Who', 'My Generation'),\n",
    "                               ]\n",
    "                         )              "
   ]
  },
  {
   "cell_type": "markdown",
   "metadata": {},
   "source": [
    "#### Let's Validate our Data Model with our 4 queries.\n",
    "\n",
    "##### 1. Give me every album in my music library that was released in a 1965 year"
   ]
  },
  {
   "cell_type": "code",
   "execution_count": 61,
   "metadata": {},
   "outputs": [
    {
     "data": {
      "text/plain": [
       "[Row(year=1965, artist_name='The Beatles', album_name='Rubber Soul', city='Oxford'),\n",
       " Row(year=1965, artist_name='The Who', album_name='My Generation', city='London')]"
      ]
     },
     "execution_count": 61,
     "metadata": {},
     "output_type": "execute_result"
    }
   ],
   "source": [
    "q = \"select * from music_library_partition_1 WHERE year=1965\"\n",
    "cassandra.custom_query(query=q)"
   ]
  },
  {
   "cell_type": "markdown",
   "metadata": {},
   "source": [
    "##### 2. Give me the album that is in my music library that was released in 1965 by \"The Beatles\""
   ]
  },
  {
   "cell_type": "code",
   "execution_count": 62,
   "metadata": {},
   "outputs": [
    {
     "data": {
      "text/plain": [
       "[Row(year=1965, artist_name='The Beatles', album_name='Rubber Soul', city='Oxford')]"
      ]
     },
     "execution_count": 62,
     "metadata": {},
     "output_type": "execute_result"
    }
   ],
   "source": [
    "q = \"select * from music_library_partition_1 WHERE year=1965 AND artist_name='The Beatles'\"\n",
    "cassandra.custom_query(query=q)"
   ]
  },
  {
   "cell_type": "markdown",
   "metadata": {
    "tags": []
   },
   "source": [
    "##### 3. Give me all the albums released in a given year that was made in London "
   ]
  },
  {
   "cell_type": "code",
   "execution_count": 43,
   "metadata": {},
   "outputs": [
    {
     "data": {
      "text/plain": [
       "[Row(artist_name='The Who', album_name='My Generation')]"
      ]
     },
     "execution_count": 43,
     "metadata": {},
     "output_type": "execute_result"
    }
   ],
   "source": [
    "q = \"select artist_name, album_name from music_library_partition_2 WHERE year=1965 AND city='London'\"\n",
    "cassandra.custom_query(query=q)"
   ]
  },
  {
   "cell_type": "markdown",
   "metadata": {},
   "source": [
    "##### 4. Give me the city that the album \"Rubber Soul\" was recorded"
   ]
  },
  {
   "cell_type": "code",
   "execution_count": 45,
   "metadata": {},
   "outputs": [
    {
     "data": {
      "text/plain": [
       "[Row(city='Oxford')]"
      ]
     },
     "execution_count": 45,
     "metadata": {},
     "output_type": "execute_result"
    }
   ],
   "source": [
    "q = \"select city from music_library_partition_3 WHERE album_name = 'Rubber Soul'\"\n",
    "cassandra.custom_query(query=q)"
   ]
  },
  {
   "cell_type": "markdown",
   "metadata": {},
   "source": [
    "#### Close the session and cluster connection"
   ]
  },
  {
   "cell_type": "code",
   "execution_count": 46,
   "metadata": {},
   "outputs": [
    {
     "name": "stdout",
     "output_type": "stream",
     "text": [
      "Closed session\n",
      "Closed cluster connection\n"
     ]
    }
   ],
   "source": [
    "cassandra.close_connection()"
   ]
  }
 ],
 "metadata": {
  "kernelspec": {
   "display_name": "Python 3 (ipykernel)",
   "language": "python",
   "name": "python3"
  },
  "language_info": {
   "codemirror_mode": {
    "name": "ipython",
    "version": 3
   },
   "file_extension": ".py",
   "mimetype": "text/x-python",
   "name": "python",
   "nbconvert_exporter": "python",
   "pygments_lexer": "ipython3",
   "version": "3.8.10"
  }
 },
 "nbformat": 4,
 "nbformat_minor": 4
}
