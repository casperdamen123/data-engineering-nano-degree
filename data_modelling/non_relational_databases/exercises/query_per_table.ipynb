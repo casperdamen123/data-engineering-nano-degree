{
 "cells": [
  {
   "cell_type": "markdown",
   "metadata": {},
   "source": [
    "# Lesson 3 Exercise 1: Three Queries Three Tables\n",
    "<img src=\"../../../images/cassandra_logo.png\" width=\"250\" height=\"250\">"
   ]
  },
  {
   "cell_type": "code",
   "execution_count": 1,
   "metadata": {},
   "outputs": [],
   "source": [
    "from src.utils.cassandra.generic_commands import CassandraCommands"
   ]
  },
  {
   "cell_type": "markdown",
   "metadata": {},
   "source": [
    "#### Create a connection to the database"
   ]
  },
  {
   "cell_type": "code",
   "execution_count": 2,
   "metadata": {},
   "outputs": [
    {
     "name": "stdout",
     "output_type": "stream",
     "text": [
      "CassandraCommands class initiated\n"
     ]
    }
   ],
   "source": [
    "cassandra = CassandraCommands()"
   ]
  },
  {
   "cell_type": "code",
   "execution_count": 3,
   "metadata": {},
   "outputs": [
    {
     "name": "stdout",
     "output_type": "stream",
     "text": [
      "Connection setup with cassandra at 127.0.0.1\n"
     ]
    }
   ],
   "source": [
    "cassandra.connect('127.0.0.1')"
   ]
  },
  {
   "cell_type": "markdown",
   "metadata": {},
   "source": [
    "#### Create and connect to keyspace"
   ]
  },
  {
   "cell_type": "code",
   "execution_count": 4,
   "metadata": {},
   "outputs": [
    {
     "name": "stdout",
     "output_type": "stream",
     "text": [
      "Keyspace named data_engeneering_nano_degree created\n"
     ]
    }
   ],
   "source": [
    "cassandra.create_keyspace('data_engeneering_nano_degree')"
   ]
  },
  {
   "cell_type": "code",
   "execution_count": 5,
   "metadata": {},
   "outputs": [
    {
     "name": "stdout",
     "output_type": "stream",
     "text": [
      "Connected to keyspace: data_engeneering_nano_degree\n"
     ]
    }
   ],
   "source": [
    "cassandra.connect_keyspace('data_engeneering_nano_degree')"
   ]
  },
  {
   "cell_type": "markdown",
   "metadata": {},
   "source": [
    "#### Let's imagine we would like to start creating a Music Library of albums. \n",
    "\n",
    "We want to ask 3 questions of the data\n",
    "##### 1. Give every album in the music library that was released in a given year\n",
    "`select * from music_library WHERE YEAR=1970`\n",
    "##### 2. Give every album in the music library that was created by a given artist  \n",
    "`select * from artist_library WHERE artist_name=\"The Beatles\"`\n",
    "##### 3. Give all the information from the music library about a given album\n",
    "`select * from album_library WHERE album_name=\"Close To You\"`\n"
   ]
  },
  {
   "cell_type": "markdown",
   "metadata": {},
   "source": [
    "#### Because we want to do three different queries, we will need different tables that partition the data differently (please not that these images do not reflect the data inserted)\n",
    "<img src=\"../../../images/non_relational_table_1.png\" width=\"350\" height=\"350\">\n",
    "<img src=\"../../../images/non_relational_table_2.png\" width=\"350\" height=\"350\">\n",
    "<img src=\"../../../images/non_relational_table_3.png\" width=\"550\" height=\"550\">"
   ]
  },
  {
   "cell_type": "markdown",
   "metadata": {},
   "source": [
    "#### Create the tables"
   ]
  },
  {
   "cell_type": "code",
   "execution_count": 7,
   "metadata": {},
   "outputs": [],
   "source": [
    "# cassandra.drop_table('music_library')\n",
    "# cassandra.drop_table('artist_library')\n",
    "# cassandra.drop_table('album_library')"
   ]
  },
  {
   "cell_type": "code",
   "execution_count": 8,
   "metadata": {},
   "outputs": [
    {
     "name": "stdout",
     "output_type": "stream",
     "text": [
      "Table named music_library created\n"
     ]
    }
   ],
   "source": [
    "cassandra.create_table(table_name='music_library', schema='(year int, artist_name varchar, album_name varchar, PRIMARY KEY (year, album_name))')"
   ]
  },
  {
   "cell_type": "code",
   "execution_count": 9,
   "metadata": {},
   "outputs": [
    {
     "name": "stdout",
     "output_type": "stream",
     "text": [
      "Table named artist_library created\n"
     ]
    }
   ],
   "source": [
    "cassandra.create_table(table_name='artist_library', schema='(year int, artist_name varchar, album_name varchar, PRIMARY KEY (artist_name, year))')"
   ]
  },
  {
   "cell_type": "code",
   "execution_count": 10,
   "metadata": {},
   "outputs": [
    {
     "name": "stdout",
     "output_type": "stream",
     "text": [
      "Table named album_library created\n"
     ]
    }
   ],
   "source": [
    "cassandra.create_table(table_name='album_library', schema='(year int, artist_name varchar, album_name varchar, PRIMARY KEY (album_name, artist_name))')"
   ]
  },
  {
   "cell_type": "markdown",
   "metadata": {},
   "source": [
    "#### Insert data into the tables"
   ]
  },
  {
   "cell_type": "code",
   "execution_count": 13,
   "metadata": {},
   "outputs": [],
   "source": [
    "# Music library\n",
    "cassandra.insert_rows(table_name='music_library', \n",
    "                      columns='(year, artist_name, album_name)',\n",
    "                      rows=[\n",
    "                           (1970, 'The Beatles', 'Let it Be'),\n",
    "                           (1965, 'The Beatles', 'Rubber Soul'),\n",
    "                           (1965, 'The Who', 'My Generation'), \n",
    "                           (1966, 'The Monkees', 'The Monkees'),\n",
    "                           (1970, 'The Carpenters', 'Close To You')\n",
    "                           ]\n",
    "                     )              "
   ]
  },
  {
   "cell_type": "code",
   "execution_count": 15,
   "metadata": {},
   "outputs": [],
   "source": [
    "# Artist library\n",
    "cassandra.insert_rows(table_name='artist_library', \n",
    "                      columns='(artist_name, year, album_name)',\n",
    "                      rows=[\n",
    "                           ('The Beatles', 1970, 'Let it Be'),\n",
    "                           ('The Beatles', 1965, 'Rubber Soul'),\n",
    "                           ('The Who', 1965, 'My Generation'), \n",
    "                           ('The Monkees', 1966, 'The Monkees'),\n",
    "                           ('The Carpenters', 1970, 'Close To You')\n",
    "                           ]\n",
    "                     )              "
   ]
  },
  {
   "cell_type": "code",
   "execution_count": 17,
   "metadata": {},
   "outputs": [],
   "source": [
    "# Album library\n",
    "cassandra.insert_rows(table_name='album_library', \n",
    "                      columns='(artist_name, album_name, year)',\n",
    "                      rows=[\n",
    "                           ('The Beatles', 'Let it Be', 1970),\n",
    "                           ('The Beatles', 'Rubber Soul', 1965),\n",
    "                           ('The Who', 'My Generation', 1965), \n",
    "                           ('The Monkees', 'The Monkees', 1966),\n",
    "                           ('The Carpenters', 'Close To You', 1970)\n",
    "                           ]\n",
    "                     )              "
   ]
  },
  {
   "cell_type": "markdown",
   "metadata": {},
   "source": [
    "This might have felt unnatural to insert duplicate data into the tables. If I just normalized these tables, I wouldn't have to have extra copies! While this is true, remember there are no `JOINS` in Apache Cassandra. For the benefit of high availibity and scalabity, denormalization must be how this is done. \n"
   ]
  },
  {
   "cell_type": "markdown",
   "metadata": {},
   "source": [
    "#### Validate the data"
   ]
  },
  {
   "cell_type": "code",
   "execution_count": 19,
   "metadata": {},
   "outputs": [
    {
     "data": {
      "text/plain": [
       "[Row(year=1970, album_name='Close To Your', artist_name='The Carpenters'),\n",
       " Row(year=1970, album_name='Let it Be', artist_name='The Beatles')]"
      ]
     },
     "execution_count": 19,
     "metadata": {},
     "output_type": "execute_result"
    }
   ],
   "source": [
    "cassandra.custom_query(query='select * from music_library WHERE YEAR=1970')"
   ]
  },
  {
   "cell_type": "code",
   "execution_count": 22,
   "metadata": {},
   "outputs": [
    {
     "data": {
      "text/plain": [
       "[Row(artist_name='The Beatles', year=1965, album_name='Rubber Soul'),\n",
       " Row(artist_name='The Beatles', year=1970, album_name='Let it Be')]"
      ]
     },
     "execution_count": 22,
     "metadata": {},
     "output_type": "execute_result"
    }
   ],
   "source": [
    "cassandra.custom_query(query=\"select * from artist_library WHERE artist_name='The Beatles'\")"
   ]
  },
  {
   "cell_type": "code",
   "execution_count": 24,
   "metadata": {},
   "outputs": [
    {
     "data": {
      "text/plain": [
       "[Row(album_name='Close To Your', artist_name='The Carpenters', year=1970)]"
      ]
     },
     "execution_count": 24,
     "metadata": {},
     "output_type": "execute_result"
    }
   ],
   "source": [
    "cassandra.custom_query(query=\"select * from album_library WHERE album_name='Close To You'\")"
   ]
  },
  {
   "cell_type": "code",
   "execution_count": null,
   "metadata": {},
   "outputs": [],
   "source": [
    "query = \"select * from ##### WHERE #####'\"\n",
    "try:\n",
    "    rows = session.execute(query)\n",
    "except Exception as e:\n",
    "    print(e)\n",
    "    \n",
    "for row in rows:\n",
    "    print (row.artist_name, row.year, row.album_name)"
   ]
  },
  {
   "cell_type": "markdown",
   "metadata": {},
   "source": [
    "#### Close the session and cluster connection"
   ]
  },
  {
   "cell_type": "code",
   "execution_count": 25,
   "metadata": {},
   "outputs": [
    {
     "name": "stdout",
     "output_type": "stream",
     "text": [
      "Closed session\n",
      "Closed cluster connection\n"
     ]
    }
   ],
   "source": [
    "cassandra.close_connection()"
   ]
  }
 ],
 "metadata": {
  "kernelspec": {
   "display_name": "Python 3 (ipykernel)",
   "language": "python",
   "name": "python3"
  },
  "language_info": {
   "codemirror_mode": {
    "name": "ipython",
    "version": 3
   },
   "file_extension": ".py",
   "mimetype": "text/x-python",
   "name": "python",
   "nbconvert_exporter": "python",
   "pygments_lexer": "ipython3",
   "version": "3.8.10"
  }
 },
 "nbformat": 4,
 "nbformat_minor": 4
}
