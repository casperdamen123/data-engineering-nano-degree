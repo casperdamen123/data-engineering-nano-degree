{
 "cells": [
  {
   "cell_type": "markdown",
   "metadata": {},
   "source": [
    "# Lesson 3 Exercise 2: Focus on Primary Key\n",
    "<img src=\"../../../images/cassandra_logo.png\" width=\"250\" height=\"250\">"
   ]
  },
  {
   "cell_type": "code",
   "execution_count": 1,
   "metadata": {},
   "outputs": [],
   "source": [
    "from src.utils.cassandra.generic_commands import CassandraCommands"
   ]
  },
  {
   "cell_type": "markdown",
   "metadata": {},
   "source": [
    "#### Create a connection to the database"
   ]
  },
  {
   "cell_type": "code",
   "execution_count": 2,
   "metadata": {},
   "outputs": [
    {
     "name": "stdout",
     "output_type": "stream",
     "text": [
      "CassandraCommands class initiated\n"
     ]
    }
   ],
   "source": [
    "cassandra = CassandraCommands()\n",
    "cassandra.connect('127.0.0.1')"
   ]
  },
  {
   "cell_type": "code",
   "execution_count": 4,
   "metadata": {},
   "outputs": [
    {
     "name": "stdout",
     "output_type": "stream",
     "text": [
      "Connection setup with cassandra at 127.0.0.1\n"
     ]
    }
   ],
   "source": [
    "cassandra.connect('127.0.0.1')"
   ]
  },
  {
   "cell_type": "markdown",
   "metadata": {},
   "source": [
    "#### Create and connect to keyspace"
   ]
  },
  {
   "cell_type": "code",
   "execution_count": 5,
   "metadata": {},
   "outputs": [
    {
     "name": "stdout",
     "output_type": "stream",
     "text": [
      "Keyspace named data_engeneering_nano_degree created\n"
     ]
    }
   ],
   "source": [
    "cassandra.create_keyspace('data_engeneering_nano_degree')\n",
    "cassandra.connect_keyspace('data_engeneering_nano_degree')"
   ]
  },
  {
   "cell_type": "markdown",
   "metadata": {},
   "source": [
    "#### Imagine you need to create a new Music Library of albums \n",
    "\n",
    "Here is the information asked of the data:\n",
    "##### 1. Give every album in the music library that was created by a given artist\n",
    "`select * from music_library WHERE artist_name=\"The Beatles\"`"
   ]
  },
  {
   "cell_type": "markdown",
   "metadata": {},
   "source": [
    "### Here is the collection of data\n",
    "<img src=\"../../../images/primary_key.png\" width=\"650\" height=\"350\">"
   ]
  },
  {
   "cell_type": "markdown",
   "metadata": {},
   "source": [
    "#### Practice by making the PRIMARY KEY only 1 Column (not 2 or more)"
   ]
  },
  {
   "cell_type": "code",
   "execution_count": 21,
   "metadata": {},
   "outputs": [
    {
     "name": "stdout",
     "output_type": "stream",
     "text": [
      "Table named music_library_p_key_1 created\n"
     ]
    }
   ],
   "source": [
    "cassandra.create_table(table_name='music_library_p_key_1', schema='(year int, city varchar, artist_name varchar, album_name varchar, PRIMARY KEY (artist_name))')"
   ]
  },
  {
   "cell_type": "markdown",
   "metadata": {},
   "source": [
    "#### Let's insert the data into the table"
   ]
  },
  {
   "cell_type": "code",
   "execution_count": 22,
   "metadata": {},
   "outputs": [],
   "source": [
    "cassandra.insert_rows(table_name='music_library_p_key_1', \n",
    "                      columns='(year, city, artist_name, album_name)',\n",
    "                      rows=[\n",
    "                           (1965, 'Oxford', 'The Beatles', 'Rubber Sould'),\n",
    "                           (1970, 'Liverpool', 'The Beatles', 'Let it Be'),\n",
    "                           (1966, 'Los Angeles', 'The Monkees', 'The Monkees'), \n",
    "                           (1970, 'San Diego', 'The Carpenters', 'Close To You'),\n",
    "                           (1965, 'London', 'The Who', 'My Generation'),\n",
    "                           ]\n",
    "                     )              "
   ]
  },
  {
   "cell_type": "markdown",
   "metadata": {},
   "source": [
    "#### Validate the Data Model"
   ]
  },
  {
   "cell_type": "code",
   "execution_count": 23,
   "metadata": {},
   "outputs": [
    {
     "data": {
      "text/plain": [
       "[Row(artist_name='The Beatles', album_name='Let it Be', city='Liverpool', year=1970)]"
      ]
     },
     "execution_count": 23,
     "metadata": {},
     "output_type": "execute_result"
    }
   ],
   "source": [
    "cassandra.custom_query(query=\"select * from music_library_p_key_1 WHERE artist_name='The Beatles'\")"
   ]
  },
  {
   "cell_type": "markdown",
   "metadata": {},
   "source": [
    "#### Create a new table with a composite key this time"
   ]
  },
  {
   "cell_type": "code",
   "execution_count": 28,
   "metadata": {},
   "outputs": [
    {
     "name": "stdout",
     "output_type": "stream",
     "text": [
      "Table named music_library_p_key_2 created\n"
     ]
    }
   ],
   "source": [
    "cassandra.create_table(table_name='music_library_p_key_2', schema='(year int, city varchar, artist_name varchar, album_name varchar, PRIMARY KEY (artist_name, year))')"
   ]
  },
  {
   "cell_type": "code",
   "execution_count": 29,
   "metadata": {},
   "outputs": [],
   "source": [
    "cassandra.insert_rows(table_name='music_library_p_key_2', \n",
    "                      columns='(year, city, artist_name, album_name)',\n",
    "                      rows=[\n",
    "                           (1965, 'Oxford', 'The Beatles', 'Rubber Sould'),\n",
    "                           (1970, 'Liverpool', 'The Beatles', 'Let it Be'),\n",
    "                           (1966, 'Los Angeles', 'The Monkees', 'The Monkees'), \n",
    "                           (1970, 'San Diego', 'The Carpenters', 'Close To You'),\n",
    "                           (1965, 'London', 'The Who', 'My Generation'),\n",
    "                           ]\n",
    "                     )              "
   ]
  },
  {
   "cell_type": "markdown",
   "metadata": {},
   "source": [
    "#### Validate the Data Model"
   ]
  },
  {
   "cell_type": "code",
   "execution_count": 30,
   "metadata": {},
   "outputs": [
    {
     "data": {
      "text/plain": [
       "[Row(artist_name='The Beatles', year=1965, album_name='Rubber Sould', city='Oxford'),\n",
       " Row(artist_name='The Beatles', year=1970, album_name='Let it Be', city='Liverpool')]"
      ]
     },
     "execution_count": 30,
     "metadata": {},
     "output_type": "execute_result"
    }
   ],
   "source": [
    "cassandra.custom_query(query=\"select * from music_library_p_key_2 WHERE artist_name='The Beatles'\")"
   ]
  },
  {
   "cell_type": "markdown",
   "metadata": {},
   "source": [
    "#### Drop the tables"
   ]
  },
  {
   "cell_type": "code",
   "execution_count": 31,
   "metadata": {},
   "outputs": [
    {
     "name": "stdout",
     "output_type": "stream",
     "text": [
      "Dropped table music_library_p_key_1\n",
      "Dropped table music_library_p_key_2\n"
     ]
    }
   ],
   "source": [
    "cassandra.drop_table(table_name='music_library_p_key_1')\n",
    "cassandra.drop_table(table_name='music_library_p_key_2')                     "
   ]
  },
  {
   "cell_type": "markdown",
   "metadata": {},
   "source": [
    "#### Close the session and cluster connection"
   ]
  },
  {
   "cell_type": "code",
   "execution_count": 32,
   "metadata": {},
   "outputs": [
    {
     "name": "stdout",
     "output_type": "stream",
     "text": [
      "Closed session\n",
      "Closed cluster connection\n"
     ]
    }
   ],
   "source": [
    "cassandra.close_connection()"
   ]
  }
 ],
 "metadata": {
  "kernelspec": {
   "display_name": "Python 3 (ipykernel)",
   "language": "python",
   "name": "python3"
  },
  "language_info": {
   "codemirror_mode": {
    "name": "ipython",
    "version": 3
   },
   "file_extension": ".py",
   "mimetype": "text/x-python",
   "name": "python",
   "nbconvert_exporter": "python",
   "pygments_lexer": "ipython3",
   "version": "3.8.10"
  }
 },
 "nbformat": 4,
 "nbformat_minor": 4
}
