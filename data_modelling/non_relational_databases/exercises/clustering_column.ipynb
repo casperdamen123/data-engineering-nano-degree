{
 "cells": [
  {
   "cell_type": "markdown",
   "metadata": {},
   "source": [
    "# Lesson 3 Exercise 3: Focus on Clustering Columns\n",
    "<img src=\"../../../images/cassandra_logo.png\" width=\"250\" height=\"250\">"
   ]
  },
  {
   "cell_type": "code",
   "execution_count": 3,
   "metadata": {},
   "outputs": [],
   "source": [
    "from src.utils.cassandra.generic_commands import CassandraCommands"
   ]
  },
  {
   "cell_type": "markdown",
   "metadata": {},
   "source": [
    "#### Create a connection to the database"
   ]
  },
  {
   "cell_type": "code",
   "execution_count": 7,
   "metadata": {},
   "outputs": [
    {
     "name": "stdout",
     "output_type": "stream",
     "text": [
      "CassandraCommands class initiated\n",
      "Connection setup with cassandra at 127.0.0.1\n"
     ]
    }
   ],
   "source": [
    "cassandra = CassandraCommands()\n",
    "cassandra.connect('127.0.0.1')"
   ]
  },
  {
   "cell_type": "markdown",
   "metadata": {},
   "source": [
    "#### Create and connect keyspace to work in "
   ]
  },
  {
   "cell_type": "code",
   "execution_count": 9,
   "metadata": {},
   "outputs": [
    {
     "name": "stdout",
     "output_type": "stream",
     "text": [
      "Keyspace named data_engeneering_nano_degree created\n",
      "Connected to keyspace: data_engeneering_nano_degree\n"
     ]
    }
   ],
   "source": [
    "cassandra.create_keyspace('data_engeneering_nano_degree')\n",
    "cassandra.connect_keyspace('data_engeneering_nano_degree')"
   ]
  },
  {
   "cell_type": "markdown",
   "metadata": {},
   "source": [
    "#### Imagine we would like to start creating a new Music Library of albums. \n",
    "\n",
    "We want to ask 1 question of our data:\n",
    "##### 1. Give me all the information from the music library about a given album\n",
    "`select * from album_library WHERE album_name=\"Close To You\"`"
   ]
  },
  {
   "cell_type": "markdown",
   "metadata": {},
   "source": [
    "### Here is the data:\n",
    "<img src=\"../../../images/primary_key.png\" width=\"650\" height=\"350\">"
   ]
  },
  {
   "cell_type": "markdown",
   "metadata": {},
   "source": [
    "#### How should we model this data? What should be our Primary Key and Partition Key? "
   ]
  },
  {
   "cell_type": "code",
   "execution_count": 14,
   "metadata": {},
   "outputs": [
    {
     "name": "stdout",
     "output_type": "stream",
     "text": [
      "Table named music_library_clustering created\n"
     ]
    }
   ],
   "source": [
    "cassandra.create_table(table_name='music_library_clustering', schema='(year int, city varchar, artist_name varchar, album_name varchar, PRIMARY KEY (album_name, artist_name, year))')"
   ]
  },
  {
   "cell_type": "code",
   "execution_count": 15,
   "metadata": {},
   "outputs": [],
   "source": [
    "cassandra.insert_rows(table_name='music_library_clustering', \n",
    "                      columns='(year, city, artist_name, album_name)',\n",
    "                      rows=[\n",
    "                           (1965, 'Oxford', 'The Beatles', 'Rubber Soul'),\n",
    "                           (1970, 'Liverpool', 'The Beatles', 'Let it Be'),\n",
    "                           (1966, 'Los Angeles', 'The Monkees', 'The Monkees'), \n",
    "                           (1970, 'San Diego', 'The Carpenters', 'Close To You'),\n",
    "                           (1965, 'London', 'The Who', 'My Generation'),\n",
    "                           ]\n",
    "                     )              "
   ]
  },
  {
   "cell_type": "markdown",
   "metadata": {
    "tags": []
   },
   "source": [
    "#### Validate the Data Model\n",
    "`select * from album_library WHERE album_name=\"Close To You\"`"
   ]
  },
  {
   "cell_type": "code",
   "execution_count": 16,
   "metadata": {},
   "outputs": [
    {
     "data": {
      "text/plain": [
       "[Row(album_name='Close To You', artist_name='The Carpenters', year=1970, city='San Diego')]"
      ]
     },
     "execution_count": 16,
     "metadata": {},
     "output_type": "execute_result"
    }
   ],
   "source": [
    "cassandra.custom_query(query=\"select * from music_library_clustering WHERE album_name='Close To You'\")"
   ]
  },
  {
   "cell_type": "markdown",
   "metadata": {},
   "source": [
    "#### Drop the table"
   ]
  },
  {
   "cell_type": "code",
   "execution_count": 17,
   "metadata": {},
   "outputs": [
    {
     "name": "stdout",
     "output_type": "stream",
     "text": [
      "Dropped table music_library_clustering\n"
     ]
    }
   ],
   "source": [
    "cassandra.drop_table(table_name='music_library_clustering')             "
   ]
  },
  {
   "cell_type": "markdown",
   "metadata": {},
   "source": [
    "#### Close the session and cluster connection"
   ]
  },
  {
   "cell_type": "code",
   "execution_count": 18,
   "metadata": {},
   "outputs": [
    {
     "name": "stdout",
     "output_type": "stream",
     "text": [
      "Closed session\n",
      "Closed cluster connection\n"
     ]
    }
   ],
   "source": [
    "cassandra.close_connection()"
   ]
  }
 ],
 "metadata": {
  "kernelspec": {
   "display_name": "Python 3 (ipykernel)",
   "language": "python",
   "name": "python3"
  },
  "language_info": {
   "codemirror_mode": {
    "name": "ipython",
    "version": 3
   },
   "file_extension": ".py",
   "mimetype": "text/x-python",
   "name": "python",
   "nbconvert_exporter": "python",
   "pygments_lexer": "ipython3",
   "version": "3.8.10"
  }
 },
 "nbformat": 4,
 "nbformat_minor": 4
}
