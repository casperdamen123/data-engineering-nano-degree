{
 "cells": [
  {
   "cell_type": "markdown",
   "metadata": {},
   "source": [
    "# Part I. ETL Pipeline for Pre-Processing the Files"
   ]
  },
  {
   "cell_type": "code",
   "execution_count": 6,
   "metadata": {},
   "outputs": [],
   "source": [
    "import pandas as pd\n",
    "from src.utils.cassandra.generic_commands import CassandraCommands\n",
    "import re\n",
    "import os\n",
    "import glob\n",
    "import numpy as np\n",
    "import json\n",
    "import csv\n",
    "from pathlib import Path"
   ]
  },
  {
   "cell_type": "markdown",
   "metadata": {},
   "source": [
    "#### Creating list of filepaths to process original event csv data files"
   ]
  },
  {
   "cell_type": "code",
   "execution_count": 7,
   "metadata": {},
   "outputs": [],
   "source": [
    "# Get your current folder and subfolder event data\n",
    "event_data_file_path = Path('data/event_data')\n",
    "\n",
    "# Create a for loop to create a list of files and collect each filepath\n",
    "for root, dirs, files in os.walk(event_data_file_path):\n",
    "    file_path_list = glob.glob(os.path.join(root,'*'))"
   ]
  },
  {
   "cell_type": "markdown",
   "metadata": {},
   "source": [
    "#### Processing the files to create the data file csv that will be used for Apache Casssandra tables"
   ]
  },
  {
   "cell_type": "code",
   "execution_count": 35,
   "metadata": {},
   "outputs": [],
   "source": [
    "# Initiating an empty list of rows that will be generated from each file\n",
    "full_data_rows_list = [] \n",
    "    \n",
    "# For every filepath in the file path list \n",
    "for f in file_path_list:\n",
    "\n",
    "    # Read the csv file \n",
    "    with open(f, 'r', encoding = 'utf8', newline='') as csvfile: \n",
    "        # Creating a csv reader object \n",
    "        csvreader = csv.reader(csvfile) \n",
    "        next(csvreader)\n",
    "        \n",
    "        # Extract every row and append to list    \n",
    "        for line in csvreader:\n",
    "            full_data_rows_list.append(line) \n",
    "            \n",
    "# Creating one csv file called event_data_new that will be used to insert data into the Apache Cassandra tables\n",
    "csv.register_dialect('myDialect', quoting=csv.QUOTE_ALL, skipinitialspace=True)\n",
    "\n",
    "with open('data/event_data_new.csv', 'w', encoding = 'utf8', newline='') as f:\n",
    "    writer = csv.writer(f, dialect='myDialect')\n",
    "    writer.writerow(['artist','firstName','gender','itemInSession','lastName','length', 'level','location','sessionId','song','userId'])\n",
    "    for row in full_data_rows_list:\n",
    "        if (row[0] == ''):\n",
    "            continue\n",
    "        writer.writerow((row[0], row[2], row[3], row[4], row[5], row[6], row[7], row[8], row[12], row[13], row[16]))"
   ]
  },
  {
   "cell_type": "code",
   "execution_count": 36,
   "metadata": {},
   "outputs": [
    {
     "name": "stdout",
     "output_type": "stream",
     "text": [
      "6821\n"
     ]
    }
   ],
   "source": [
    "# Check the number of rows in your csv file\n",
    "with open('data/event_data_new.csv', 'r', encoding = 'utf8') as f:\n",
    "    print(sum(1 for line in f))"
   ]
  },
  {
   "cell_type": "markdown",
   "metadata": {
    "tags": []
   },
   "source": [
    "# Part II. Complete the Apache Cassandra coding portion of your project. \n",
    "\n",
    "Columns:\n",
    "- `artist`: Name of artist\n",
    "- `firstName`: Name of user\n",
    "- `gender`: Gender of user\n",
    "- `itemInSession`: Item number in session\n",
    "- `lastName`: Last name of user\n",
    "- `length`: Duration of the song\n",
    "- `level`: Paid or free song\n",
    "- `location`: Location of the user\n",
    "- `sessionId`: ID of the session\n",
    "- `song title`: Title of the song\n",
    "- `userId`: ID of the user\n",
    "\n",
    "The image below is a screenshot of what the denormalized data should appear like in the <font color=red>**data/event_data_new.csv**</font> after the code above is run:<br>\n",
    "\n",
    "<img src=\"../../../images/cassandra_project.jpg\">"
   ]
  },
  {
   "cell_type": "markdown",
   "metadata": {},
   "source": [
    "## Begin writing your Apache Cassandra code in the cells below"
   ]
  },
  {
   "cell_type": "markdown",
   "metadata": {},
   "source": [
    "#### Creating a Cluster"
   ]
  },
  {
   "cell_type": "code",
   "execution_count": 10,
   "metadata": {},
   "outputs": [
    {
     "name": "stdout",
     "output_type": "stream",
     "text": [
      "CassandraCommands class initiated\n",
      "Connection setup with cassandra at 127.0.0.1\n"
     ]
    }
   ],
   "source": [
    "# Create cassandra class\n",
    "cassandra = CassandraCommands()\n",
    "\n",
    "# Connect to cluster\n",
    "cassandra.connect('127.0.0.1')"
   ]
  },
  {
   "cell_type": "markdown",
   "metadata": {},
   "source": [
    "#### Create Keyspace"
   ]
  },
  {
   "cell_type": "code",
   "execution_count": 11,
   "metadata": {},
   "outputs": [
    {
     "name": "stdout",
     "output_type": "stream",
     "text": [
      "Keyspace named data_engeneering_nano_degree created\n"
     ]
    }
   ],
   "source": [
    "cassandra.create_keyspace('data_engeneering_nano_degree')"
   ]
  },
  {
   "cell_type": "markdown",
   "metadata": {},
   "source": [
    "#### Set Keyspace"
   ]
  },
  {
   "cell_type": "code",
   "execution_count": 12,
   "metadata": {},
   "outputs": [
    {
     "name": "stdout",
     "output_type": "stream",
     "text": [
      "Connected to keyspace: data_engeneering_nano_degree\n"
     ]
    }
   ],
   "source": [
    "cassandra.connect_keyspace('data_engeneering_nano_degree') "
   ]
  },
  {
   "cell_type": "markdown",
   "metadata": {},
   "source": [
    "#### Understand datasets unique rows"
   ]
  },
  {
   "cell_type": "code",
   "execution_count": 37,
   "metadata": {},
   "outputs": [
    {
     "name": "stdout",
     "output_type": "stream",
     "text": [
      "Checking NULL values: \n",
      "\n",
      "artist           0\n",
      "firstName        0\n",
      "gender           0\n",
      "itemInSession    0\n",
      "lastName         0\n",
      "length           0\n",
      "level            0\n",
      "location         0\n",
      "sessionId        0\n",
      "song             0\n",
      "userId           0\n",
      "dtype: int64\n",
      "\n",
      "Total number of rows: 6820\n",
      "Total number of unique rows based on sessionId and itemInSessions: 6820\n"
     ]
    }
   ],
   "source": [
    "all_event_data_path = Path('data/event_data_new.csv')\n",
    "all_event_data_df = pd.read_csv(all_event_data_path)\n",
    "\n",
    "# Check NULL values\n",
    "print(f\"Checking NULL values: \\n\\n{all_event_data_df.isnull().sum()}\\n\")\n",
    "print(f\"Total number of rows: {len(all_event_data_df)}\")\n",
    "\n",
    "# SessionId, itemInSessions identify a unique row\n",
    "print(f\"Total number of unique rows based on sessionId and itemInSessions: {len(all_event_data_df.groupby(['sessionId', 'itemInSession']))}\")"
   ]
  },
  {
   "cell_type": "markdown",
   "metadata": {},
   "source": [
    "#### Create tables"
   ]
  },
  {
   "cell_type": "markdown",
   "metadata": {},
   "source": [
    "#### 1. Music by session\n",
    "\n",
    "This table is generated to provide the artist, song title and song length in the music app history, which can be filtering on a specific session ID and item in session. Each row is uniquely identified per session ID and item in session. SessionId is used as a partition key together with itemInSession, no clustering columns are used.\n",
    "\n",
    "The query we are modelling for is:\n",
    "\n",
    "`SELECT artist, song, length FROM music_by_session WHERE sessionId = 388 and itemInSession = 4`"
   ]
  },
  {
   "cell_type": "code",
   "execution_count": null,
   "metadata": {},
   "outputs": [],
   "source": [
    "# Create table music_by_session\n",
    "schema_music_by_session = '(sessionId int, itemInSession int, artist varchar, song varchar, length float, PRIMARY KEY ((sessionId, itemInSession)))'\n",
    "cassandra.create_table(table_name='music_by_session', schema=schema_music_by_session)"
   ]
  },
  {
   "cell_type": "code",
   "execution_count": 90,
   "metadata": {
    "tags": []
   },
   "outputs": [],
   "source": [
    "# Insert data into music_by_session\n",
    "for i, row in all_event_data_df.iterrows():\n",
    "        cassandra.insert_rows(table_name='music_by_session', \n",
    "                              columns='(sessionId, itemInSession, artist, song, length)',\n",
    "                              rows=[\n",
    "                                   (row['sessionId'], row['itemInSession'], row['artist'], row['song'], row['length'])\n",
    "                              ]\n",
    "        )"
   ]
  },
  {
   "cell_type": "code",
   "execution_count": 41,
   "metadata": {},
   "outputs": [
    {
     "name": "stdout",
     "output_type": "stream",
     "text": [
      "[]\n",
      "[Row(artist='Pulp', song='Babies', length=244.08770751953125)]\n"
     ]
    }
   ],
   "source": [
    "# Validate data (used itemInSession = 1 instead of itemInSession = 4, since this record does not exist in dataset)\n",
    "print(cassandra.custom_query(query='SELECT artist, song, length FROM music_by_session WHERE sessionId = 388 AND itemInSession = 4'))\n",
    "print(cassandra.custom_query(query='SELECT artist, song, length FROM music_by_session WHERE sessionId = 388 AND itemInSession = 1'))"
   ]
  },
  {
   "cell_type": "markdown",
   "metadata": {},
   "source": [
    "#### 2. Music by user and session\n",
    "\n",
    "This table is generated to provide the artist, song title, user first name and user last name in the music app history, which can be filtering on a specific userID and session ID. Each row is uniquely identified per session ID and item in session. The primary key consists of the userId and sessionId (partition columns) together with itemInSession (clustering key).\n",
    "\n",
    "The query we are modelling for is:\n",
    "\n",
    "`SELECT artist, song, firstName, lastName FROM music_by_user_session WHERE userId = 10 and sessionId = 182`\n"
   ]
  },
  {
   "cell_type": "code",
   "execution_count": 24,
   "metadata": {},
   "outputs": [
    {
     "name": "stdout",
     "output_type": "stream",
     "text": [
      "Table named music_app_history_2 created\n"
     ]
    }
   ],
   "source": [
    "# Create table music_by_user_session\n",
    "schema_music_by_user_session = '(userId int, sessionId int, itemInSession int, artist varchar, song varchar, firstName varchar, lastName varchar, PRIMARY KEY ((userId, sessionId), itemInSession))'\n",
    "cassandra.create_table(table_name='music_by_user_session', schema=schema_music_by_user_session )"
   ]
  },
  {
   "cell_type": "code",
   "execution_count": 28,
   "metadata": {},
   "outputs": [],
   "source": [
    "# Insert data to music_by_user_session\n",
    "for i, row in all_event_data_df.iterrows():\n",
    "        cassandra.insert_rows(table_name='music_by_user_session', \n",
    "                              columns='(userId, sessionId, itemInSession, artist, song, firstName, lastName)',\n",
    "                              rows=[\n",
    "                                   (row['userId'], row['sessionId'], row['itemInSession'], row['artist'], row['song'], row['firstName'], row['lastName'])\n",
    "                              ]\n",
    "        )"
   ]
  },
  {
   "cell_type": "code",
   "execution_count": 29,
   "metadata": {},
   "outputs": [
    {
     "data": {
      "text/plain": [
       "[Row(artist='Down To The Bone', song=\"Keep On Keepin' On\", firstname='Sylvie', lastname='Cruz'),\n",
       " Row(artist='Three Drives', song='Greece 2000', firstname='Sylvie', lastname='Cruz'),\n",
       " Row(artist='Sebastien Tellier', song='Kilometer', firstname='Sylvie', lastname='Cruz'),\n",
       " Row(artist='Lonnie Gordon', song='Catch You Baby (Steve Pitron & Max Sanna Radio Edit)', firstname='Sylvie', lastname='Cruz')]"
      ]
     },
     "execution_count": 29,
     "metadata": {},
     "output_type": "execute_result"
    }
   ],
   "source": [
    "# Validate data\n",
    "cassandra.custom_query(query='SELECT artist, song, firstName, lastName FROM music_by_user_session WHERE userId = 10 AND sessionId = 182')"
   ]
  },
  {
   "cell_type": "markdown",
   "metadata": {},
   "source": [
    "#### 3. Music by song\n",
    "\n",
    "This table is generated to provide the user first name and user last name in the music app history, which can be filtering on a specific song title. Each row is uniquely identified per session ID and item in session. The primary key consists of the song (partition column) together with session ID and itemInSession (clustering columns).\n",
    "\n",
    "The query we are modelling for is:\n",
    "\n",
    "`SELECT firstName, lastName FROM music_by_song WHERE song = 'All Hands Against His Own`\n"
   ]
  },
  {
   "cell_type": "code",
   "execution_count": null,
   "metadata": {},
   "outputs": [],
   "source": [
    "# Create table music_by_song\n",
    "schema_music_by_song = '(song varchar, sessionId int, itemInSession int, firstName varchar, lastName varchar, PRIMARY KEY (song, sessionId, itemInSession))'\n",
    "\n",
    "cassandra.create_table(table_name='music_by_song', schema=schema_music_by_song)"
   ]
  },
  {
   "cell_type": "code",
   "execution_count": null,
   "metadata": {},
   "outputs": [],
   "source": [
    "# Insert data in music_by_song\n",
    "for i, row in all_event_data_df.iterrows():\n",
    "        cassandra.insert_rows(table_name='music_by_song', \n",
    "                              columns='(song, sessionId, itemInSession, firstName, lastName)',\n",
    "                              rows=[\n",
    "                                   (row['song'], row['sessionId'], row['itemInSession'], row['firstName'], row['lastName'])\n",
    "                              ]\n",
    "        )"
   ]
  },
  {
   "cell_type": "code",
   "execution_count": 34,
   "metadata": {},
   "outputs": [
    {
     "data": {
      "text/plain": [
       "[Row(firstname='Sara', lastname='Johnson'),\n",
       " Row(firstname='Jacqueline', lastname='Lynch'),\n",
       " Row(firstname='Tegan', lastname='Levine')]"
      ]
     },
     "execution_count": 34,
     "metadata": {},
     "output_type": "execute_result"
    }
   ],
   "source": [
    "# Validate data\n",
    "cassandra.custom_query(query=\"SELECT firstName, lastName FROM music_by_song WHERE song = 'All Hands Against His Own'\")"
   ]
  },
  {
   "cell_type": "markdown",
   "metadata": {},
   "source": [
    "#### Drop the tables before closing out the sessions"
   ]
  },
  {
   "cell_type": "code",
   "execution_count": 4,
   "metadata": {},
   "outputs": [],
   "source": [
    "cassandra.drop_table(table_name='music_by_session')\n",
    "cassandra.drop_table(table_name='music_by_user_session')\n",
    "cassandra.drop_table(table_name='music_by_song')"
   ]
  },
  {
   "cell_type": "markdown",
   "metadata": {},
   "source": [
    "#### Close the session and cluster connection¶"
   ]
  },
  {
   "cell_type": "code",
   "execution_count": null,
   "metadata": {},
   "outputs": [],
   "source": [
    "cassandra.close_connection()"
   ]
  }
 ],
 "metadata": {
  "kernelspec": {
   "display_name": "Python 3 (ipykernel)",
   "language": "python",
   "name": "python3"
  },
  "language_info": {
   "codemirror_mode": {
    "name": "ipython",
    "version": 3
   },
   "file_extension": ".py",
   "mimetype": "text/x-python",
   "name": "python",
   "nbconvert_exporter": "python",
   "pygments_lexer": "ipython3",
   "version": "3.8.10"
  }
 },
 "nbformat": 4,
 "nbformat_minor": 4
}
