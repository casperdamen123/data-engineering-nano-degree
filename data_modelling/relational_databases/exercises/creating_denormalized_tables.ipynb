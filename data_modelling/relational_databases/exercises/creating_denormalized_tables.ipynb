{
 "cells": [
  {
   "cell_type": "markdown",
   "metadata": {},
   "source": [
    "# Lesson 2 Exercise 2: Creating Denormalized Tables\n",
    "\n",
    "<img src=\"../../../images/postgre_sql_logo.png\" width=\"250\" height=\"250\">"
   ]
  },
  {
   "cell_type": "code",
   "execution_count": 1,
   "metadata": {},
   "outputs": [],
   "source": [
    "from src.utils.postgres.generic_commands import PostgresCommands"
   ]
  },
  {
   "cell_type": "markdown",
   "metadata": {},
   "source": [
    "##### Create a connection to the database, get a cursor, and set autocommit to true"
   ]
  },
  {
   "cell_type": "code",
   "execution_count": 5,
   "metadata": {},
   "outputs": [
    {
     "name": "stdout",
     "output_type": "stream",
     "text": [
      "PostgresCommands class initiated\n"
     ]
    }
   ],
   "source": [
    "postgres = PostgresCommands()"
   ]
  },
  {
   "cell_type": "code",
   "execution_count": 6,
   "metadata": {},
   "outputs": [
    {
     "name": "stdout",
     "output_type": "stream",
     "text": [
      "Connection established with nano_data_engineering_db\n"
     ]
    }
   ],
   "source": [
    "postgres.connect(host='localhost', port='5432', database_name='nano_data_engineering_db', user='postgres', password='####', autocommit=True)"
   ]
  },
  {
   "cell_type": "markdown",
   "metadata": {},
   "source": [
    "##### Let's start with our normalized (3NF) database set of tables we had in the last exercise, but we have added a new table `sales`. \n",
    "\n",
    "`Table Name: transactions` \\\n",
    "`column 0: transaction Id` \\\n",
    "`column 1: Customer Name` \\\n",
    "`column 2: Cashier Id` \\\n",
    "`column 3: Year` \n",
    "\n",
    "`Table Name: albums_sold` \\\n",
    "`column 0: Album Id` \\\n",
    "`column 1: Transaction Id` \\\n",
    "`column 3: Album Name` \n",
    "\n",
    "`Table Name: employees` \\\n",
    "`column 0: Employee Id` \\\n",
    "`column 1: Employee Name` \n",
    "\n",
    "`Table Name: sales` \\\n",
    "`column 0: Transaction Id` \\\n",
    "`column 1: Amount Spent` \n",
    "\n",
    "<img src=\"../../../images/normalized_transactions.png\" width=\"450\" height=\"450\"> \n",
    "<img src=\"../../../images/normalized_albums.png\" width=\"450\" height=\"450\"> \n",
    "<img src=\"../../../images/normalized_employees.png\" width=\"350\" height=\"350\"> \n",
    "<img src=\"../../../images/normalized_sales.png\" width=\"350\" height=\"350\">"
   ]
  },
  {
   "cell_type": "markdown",
   "metadata": {},
   "source": [
    "##### Generate and check tables"
   ]
  },
  {
   "cell_type": "code",
   "execution_count": 11,
   "metadata": {},
   "outputs": [
    {
     "name": "stdout",
     "output_type": "stream",
     "text": [
      "Table named transactions created\n",
      "(1, 'Amanda', 1, 2000)\n",
      "(2, 'Toby', 1, 2000)\n",
      "(3, 'Max', 2, 2018)\n",
      "Table named albums created\n",
      "(1, 1, 'Rubber Soul')\n",
      "(2, 1, 'Let It Be')\n",
      "(3, 2, 'My Generation')\n",
      "(4, 3, 'Meet the Beatles')\n",
      "(5, 3, 'Help!')\n",
      "Table named employees created\n",
      "(1, 'Sam')\n",
      "(2, 'Bob')\n",
      "Table named sales created\n",
      "(1, 40)\n",
      "(2, 19)\n",
      "(3, 45)\n"
     ]
    }
   ],
   "source": [
    "# Transactions\n",
    "postgres.create_table(table_name='transactions', schema='(transaction_id int, customer_name varchar, cashier_id int, year int)')\n",
    "postgres.insert_rows(table_name='transactions', \n",
    "                     columns='(transaction_id, customer_name, cashier_id, year)',\n",
    "                     rows=[\n",
    "                           (1, 'Amanda', 1, 2000),\n",
    "                           (2, 'Toby', 1, 2000),\n",
    "                           (3, 'Max', 2, 2018)\n",
    "                          ]\n",
    "                    )\n",
    "postgres.print_rows(table_name='transactions')\n",
    "\n",
    "# Albums\n",
    "postgres.create_table(table_name='albums', schema='(album_id int, transaction_id int, album_name varchar)')\n",
    "postgres.insert_rows(table_name='albums', \n",
    "                     columns='(album_id, transaction_id, album_name)',\n",
    "                     rows=[\n",
    "                           (1, 1, 'Rubber Soul'),\n",
    "                           (2, 1, 'Let It Be'),\n",
    "                           (3, 2, 'My Generation'),\n",
    "                           (4, 3, 'Meet the Beatles'),\n",
    "                           (5, 3, 'Help!'),\n",
    "                          ]\n",
    "                    )\n",
    "postgres.print_rows(table_name='albums')\n",
    "\n",
    "# Employees\n",
    "postgres.create_table(table_name='employees', schema='(employee_id int, employee_name varchar)')\n",
    "postgres.insert_rows(table_name='employees', \n",
    "                     columns='(employee_id, employee_name)',\n",
    "                     rows=[\n",
    "                           (1, 'Sam'),\n",
    "                           (2, 'Bob')\n",
    "                          ]\n",
    "                    )\n",
    "postgres.print_rows(table_name='employees')\n",
    "\n",
    "# Sales\n",
    "postgres.create_table(table_name='sales', schema='(transaction_id int, amount_spent int)')\n",
    "postgres.insert_rows(table_name='sales', \n",
    "                     columns='(transaction_id, amount_spent)',\n",
    "                     rows=[\n",
    "                           (1, 40),\n",
    "                           (2, 19),\n",
    "                           (3, 45)\n",
    "                          ]\n",
    "                    )\n",
    "postgres.print_rows(table_name='sales')"
   ]
  },
  {
   "cell_type": "markdown",
   "metadata": {},
   "source": [
    "##### Let's say you need to do a query that gives:\n",
    "\n",
    "`transaction_id` \\\n",
    "`customer_name` \\\n",
    "`cashier_name` \\\n",
    "`year` \\\n",
    "`albums_sold` \\\n",
    "`amount_sold` "
   ]
  },
  {
   "cell_type": "code",
   "execution_count": 16,
   "metadata": {},
   "outputs": [
    {
     "data": {
      "text/plain": [
       "[(1, 'Amanda', 'Sam', 2000, 'Rubber Soul', 40),\n",
       " (1, 'Amanda', 'Sam', 2000, 'Let It Be', 40),\n",
       " (2, 'Toby', 'Sam', 2000, 'My Generation', 19),\n",
       " (3, 'Max', 'Bob', 2018, 'Meet the Beatles', 45),\n",
       " (3, 'Max', 'Bob', 2018, 'Help!', 45)]"
      ]
     },
     "execution_count": 16,
     "metadata": {},
     "output_type": "execute_result"
    }
   ],
   "source": [
    "postgres.custom_query(query=\"\"\"\n",
    "                            SELECT\n",
    "                                transaction_id,\n",
    "                                customer_name,\n",
    "                                employee_name AS cashier_name,\n",
    "                                year,\n",
    "                                album_name,\n",
    "                                amount_spent\n",
    "                            FROM transactions\n",
    "                            LEFT JOIN employees\n",
    "                            ON transactions.cashier_id = employees.employee_id\n",
    "                            LEFT JOIN albums\n",
    "                            USING (transaction_id)\n",
    "                            LEFT JOIN sales\n",
    "                            USING (transaction_id)\n",
    "                            \"\"\"\n",
    "                     )                                "
   ]
  },
  {
   "cell_type": "markdown",
   "metadata": {},
   "source": [
    "Great we were able to get the data we wanted.\n",
    "\n",
    "But, we had to perform a 3 way `JOIN` to get there. While it's great we had that flexibility, we need to remember that `JOINS` are slow and if we have a read heavy workload that required low latency queries we want to reduce the number of `JOINS`.  Let's think about denormalizing our normalized tables."
   ]
  },
  {
   "cell_type": "markdown",
   "metadata": {},
   "source": [
    "##### With denormalization you want to think about the queries you are running and how to reduce the number of JOINS even if that means duplicating data. The following are the queries you need to run."
   ]
  },
  {
   "cell_type": "markdown",
   "metadata": {},
   "source": [
    "####  Query 1: `select transaction_id, customer_name, amount_spent FROM <min number of tables>`\n",
    "\n",
    "One way to do this would be to do a JOIN on the `sales` and `transactions2` table but we want to minimize the use of `JOINS`.  \n",
    "\n",
    "To reduce the number of tables, first add `amount_spent` to the `transactions` table so that you will not need to do a JOIN at all. \n",
    "\n",
    "`Table Name: transactions` \\\n",
    "`column 0: transaction_id` \\\n",
    "`column 1: customer_name` \\\n",
    "`column 2: cashier_id` \\\n",
    "`column 3: year` \\\n",
    "`column 4: amount_spent`\n",
    "\n",
    "<img src=\"../../../images/denormalized.png\" width=\"450\" height=\"450\">"
   ]
  },
  {
   "cell_type": "code",
   "execution_count": 19,
   "metadata": {},
   "outputs": [
    {
     "name": "stdout",
     "output_type": "stream",
     "text": [
      "Dropped table transactions\n",
      "Table named transactions created\n",
      "(1, 'Amanda', 1, 2000, 40)\n",
      "(2, 'Toby', 1, 2000, 19)\n",
      "(3, 'Max', 2, 2018, 45)\n"
     ]
    }
   ],
   "source": [
    "# Drop earlier created table\n",
    "postgres.drop_table('transactions')\n",
    "\n",
    "# Sales\n",
    "postgres.create_table(table_name='transactions', schema='(transaction_id int, customer_name text, cashier_id int, year int, amount_spent int)')\n",
    "postgres.insert_rows(table_name='transactions', \n",
    "                     columns='(transaction_id, customer_name, cashier_id, year, amount_spent)',\n",
    "                     rows=[\n",
    "                           (1, 'Amanda', 1, 2000, 40),\n",
    "                           (2, 'Toby', 1, 2000, 19),\n",
    "                           (3, 'Max', 2, 2018, 45)\n",
    "                          ]\n",
    "                    )\n",
    "postgres.print_rows(table_name='transactions')"
   ]
  },
  {
   "cell_type": "markdown",
   "metadata": {},
   "source": [
    "##### Now you should be able to do a simplifed query to get the information you need. No  `JOIN` is needed."
   ]
  },
  {
   "cell_type": "code",
   "execution_count": 22,
   "metadata": {},
   "outputs": [
    {
     "name": "stdout",
     "output_type": "stream",
     "text": [
      "(1, 'Amanda', 40)\n",
      "(2, 'Toby', 19)\n",
      "(3, 'Max', 45)\n"
     ]
    }
   ],
   "source": [
    "for row in postgres.custom_query(query=\"\"\"\n",
    "                                        SELECT\n",
    "                                            transaction_id,\n",
    "                                            customer_name,\n",
    "                                            amount_spent\n",
    "                                        FROM transactions\n",
    "                                        \"\"\"\n",
    "                                ):\n",
    "    print(row)"
   ]
  },
  {
   "cell_type": "markdown",
   "metadata": {
    "tags": []
   },
   "source": [
    "#### Query 2: `select cashier_name, SUM(amount_spent) FROM <min number of tables> GROUP BY cashier_name` \n",
    "\n",
    "To avoid using any `JOINS`, first create a new table with just the information we need. \n",
    "\n",
    "`Table Name: cashier_sales` \\\n",
    "`column 0: transaction_id` \\\n",
    "`column 1: cashier_name` \\\n",
    "`column 2: cashier_id` \\\n",
    "`column 3: amount_spent`\n",
    "\n",
    "\n",
    "<img src=\"../../../images/denormalized_2.png\" width=\"450\" height=\"450\">"
   ]
  },
  {
   "cell_type": "code",
   "execution_count": 24,
   "metadata": {},
   "outputs": [
    {
     "name": "stdout",
     "output_type": "stream",
     "text": [
      "Table named cashier_sales created\n",
      "(1, 'Sam', 1, 40)\n",
      "(2, 'Sam', 1, 19)\n",
      "(3, 'Bob', 2, 45)\n"
     ]
    }
   ],
   "source": [
    "# Cashier Sales\n",
    "postgres.create_table(table_name='cashier_sales', schema='(transaction_id int, cashier_name text, cashier_id int, amount_spent int)')\n",
    "postgres.insert_rows(table_name='cashier_sales', \n",
    "                     columns='(transaction_id, cashier_name, cashier_id, amount_spent)',\n",
    "                     rows=[\n",
    "                           (1, 'Sam', 1, 40),\n",
    "                           (2, 'Sam', 1, 19),\n",
    "                           (3, 'Bob', 2, 45)\n",
    "                          ]\n",
    "                    )\n",
    "postgres.print_rows(table_name='cashier_sales')"
   ]
  },
  {
   "cell_type": "markdown",
   "metadata": {},
   "source": [
    "### Run the query"
   ]
  },
  {
   "cell_type": "code",
   "execution_count": 25,
   "metadata": {},
   "outputs": [
    {
     "name": "stdout",
     "output_type": "stream",
     "text": [
      "('Sam', 59)\n",
      "('Bob', 45)\n"
     ]
    }
   ],
   "source": [
    "for row in postgres.custom_query(query=\"\"\"\n",
    "                                        SELECT\n",
    "                                            cashier_name,\n",
    "                                            SUM(amount_spent) AS sales\n",
    "                                        FROM cashier_sales\n",
    "                                        GROUP BY 1\n",
    "                                        \"\"\"\n",
    "                                ):\n",
    "    print(row)"
   ]
  },
  {
   "cell_type": "markdown",
   "metadata": {},
   "source": [
    "##### And finally close your cursor and connection"
   ]
  },
  {
   "cell_type": "code",
   "execution_count": 26,
   "metadata": {},
   "outputs": [
    {
     "name": "stdout",
     "output_type": "stream",
     "text": [
      "Closed cursor\n",
      "Closed connection\n"
     ]
    }
   ],
   "source": [
    "postgres.close_connection()"
   ]
  }
 ],
 "metadata": {
  "kernelspec": {
   "display_name": "Python 3 (ipykernel)",
   "language": "python",
   "name": "python3"
  },
  "language_info": {
   "codemirror_mode": {
    "name": "ipython",
    "version": 3
   },
   "file_extension": ".py",
   "mimetype": "text/x-python",
   "name": "python",
   "nbconvert_exporter": "python",
   "pygments_lexer": "ipython3",
   "version": "3.8.10"
  }
 },
 "nbformat": 4,
 "nbformat_minor": 4
}
