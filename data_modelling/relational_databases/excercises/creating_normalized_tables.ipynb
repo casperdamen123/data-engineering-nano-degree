{
 "cells": [
  {
   "cell_type": "markdown",
   "metadata": {},
   "source": [
    "# Lesson 2 Exercise 1: Creating Normalized Tables\n",
    "\n",
    "<img src=\"../../../images/postgre_sql_logo.png\" width=\"250\" height=\"250\">"
   ]
  },
  {
   "cell_type": "code",
   "execution_count": 5,
   "metadata": {},
   "outputs": [],
   "source": [
    "from src.utils.postgres.generic_commands import PostgresCommands"
   ]
  },
  {
   "cell_type": "markdown",
   "metadata": {},
   "source": [
    "##### Create a connection to the database, get a cursor, and set autocommit to true"
   ]
  },
  {
   "cell_type": "code",
   "execution_count": 2,
   "metadata": {},
   "outputs": [
    {
     "name": "stdout",
     "output_type": "stream",
     "text": [
      "PostgresCommands class initiated\n"
     ]
    }
   ],
   "source": [
    "postgres = PostgresCommands()"
   ]
  },
  {
   "cell_type": "code",
   "execution_count": 3,
   "metadata": {},
   "outputs": [
    {
     "name": "stdout",
     "output_type": "stream",
     "text": [
      "Connection established with nano_data_engineering_db\n"
     ]
    }
   ],
   "source": [
    "postgres.connect(host='localhost', port='5432', database_name='nano_data_engineering_db', user='postgres', password='####', autocommit=True)"
   ]
  },
  {
   "cell_type": "markdown",
   "metadata": {},
   "source": [
    "##### Let's imagine we have a table called Music Store\n",
    "\n",
    "`Table Name: music_store` \\\n",
    "`column 0: Transaction Id` \\\n",
    "`column 1: Customer Name` \\\n",
    "`column 2: Cashier Name` \\\n",
    "`column 3: Year` \\\n",
    "`column 4: Albums Purchased` \n",
    "\n",
    "<img src=\"../../..//images/non_normalized_table.png\" width=\"650\" height=\"650\">"
   ]
  },
  {
   "cell_type": "markdown",
   "metadata": {},
   "source": [
    "##### Generate table"
   ]
  },
  {
   "cell_type": "code",
   "execution_count": null,
   "metadata": {},
   "outputs": [],
   "source": [
    "postgres.create_table(table_name='music_store', schema='(transaction_id int, customer_name varchar, cashier_name varchar, year int, albums_purchased text[])')"
   ]
  },
  {
   "cell_type": "code",
   "execution_count": 8,
   "metadata": {},
   "outputs": [],
   "source": [
    "postgres.insert_rows(table_name='music_store', \n",
    "                     columns='(transaction_id, customer_name, cashier_name, year, albums_purchased)',\n",
    "                     rows=[\n",
    "                           (1, 'Amanda', 'Sam', 2000, ['Rubber Soul', 'Let it Be']),\n",
    "                           (2, 'Toby', 'Sam', 2000, ['My Generation']),\n",
    "                           (3, 'Max', 'Bob', 2018, ['Meet the Beatles', 'Help!'])\n",
    "                          ]\n",
    "                    )"
   ]
  },
  {
   "cell_type": "code",
   "execution_count": 9,
   "metadata": {},
   "outputs": [
    {
     "name": "stdout",
     "output_type": "stream",
     "text": [
      "(1, 'Amanda', 'Sam', 2000, ['Rubber Soul', 'Let it Be'])\n",
      "(2, 'Toby', 'Sam', 2000, ['My Generation'])\n",
      "(3, 'Max', 'Bob', 2018, ['Meet the Beatles', 'Help!'])\n"
     ]
    }
   ],
   "source": [
    "postgres.print_rows(table_name='music_store')"
   ]
  },
  {
   "cell_type": "markdown",
   "metadata": {},
   "source": [
    "#### Moving to 1st Normal Form (1NF)"
   ]
  },
  {
   "cell_type": "code",
   "execution_count": 10,
   "metadata": {},
   "outputs": [
    {
     "name": "stdout",
     "output_type": "stream",
     "text": [
      "Table named music_store_2 created\n"
     ]
    }
   ],
   "source": [
    "postgres.create_table(table_name='music_store_2', schema='(transaction_id int, customer_name varchar, cashier_name varchar, year int, album_purchased varchar)')"
   ]
  },
  {
   "cell_type": "code",
   "execution_count": 11,
   "metadata": {},
   "outputs": [],
   "source": [
    "postgres.insert_rows(table_name='music_store_2', \n",
    "                     columns='(transaction_id, customer_name, cashier_name, year, album_purchased)',\n",
    "                     rows=[\n",
    "                           (1, 'Amanda', 'Sam', 2000, 'Rubber Soul'),\n",
    "                           (1, 'Amanda', 'Sam', 2000, 'Let it Be'),\n",
    "                           (2, 'Toby', 'Sam', 2000, 'My Generation'),\n",
    "                           (3, 'Max', 'Bob', 2018, 'Meet the Beatles'),\n",
    "                           (3, 'Max', 'Bob', 2018, 'Help!')\n",
    "                          ]\n",
    "                    )"
   ]
  },
  {
   "cell_type": "code",
   "execution_count": 4,
   "metadata": {},
   "outputs": [
    {
     "name": "stdout",
     "output_type": "stream",
     "text": [
      "(1, 'Amanda', 'Sam', 2000, 'Rubber Soul')\n",
      "(1, 'Amanda', 'Sam', 2000, 'Let it Be')\n",
      "(2, 'Toby', 'Sam', 2000, 'My Generation')\n",
      "(3, 'Max', 'Bob', 2018, 'Meet the Beatles')\n",
      "(3, 'Max', 'Bob', 2018, 'Help!')\n"
     ]
    }
   ],
   "source": [
    "postgres.print_rows(table_name='music_store_2')"
   ]
  },
  {
   "cell_type": "markdown",
   "metadata": {},
   "source": [
    "<img src=\"../../../images/normalized_1nf.png\" width=\"650\" height=\"650\">"
   ]
  },
  {
   "cell_type": "markdown",
   "metadata": {},
   "source": [
    "#### Moving to 2nd Normal Form (2NF)\n",
    "You have now moved the data into 1NF, which is the first step in moving to 2nd Normal Form. The table is not yet in 2nd Normal Form. While each of the records in the table is unique, our Primary key (transaction id) is not unique. \n",
    "\n",
    "Therefore we need to break up the table into two tables, transactions and albums sold"
   ]
  },
  {
   "cell_type": "markdown",
   "metadata": {},
   "source": [
    "`Table Name: transactions` \\\n",
    "`column 0: Transaction Id` \\\n",
    "`column 1: Customer Name` \\\n",
    "`column 2: Cashier Name` \\\n",
    "`column 3: Year` \\\n",
    "`column 4: Albums Purchased` \n",
    "\n",
    "`Table Name: albums` \\\n",
    "`column 0: Album Id` \\\n",
    "`column 1: Transaction Id` \\\n",
    "`column 2: Album Purchased`\n",
    "\n",
    "<img src=\"../../../images/normalized_2nf.png\" width=\"650\" height=\"650\">"
   ]
  },
  {
   "cell_type": "code",
   "execution_count": 5,
   "metadata": {},
   "outputs": [
    {
     "name": "stdout",
     "output_type": "stream",
     "text": [
      "Table named transactions created\n",
      "(1, 'Amanda', 'Sam', 2000)\n",
      "(2, 'Toby', 'Sam', 2000)\n",
      "(3, 'Max', 'Bob', 2018)\n"
     ]
    }
   ],
   "source": [
    "postgres.create_table(table_name='transactions', schema='(transaction_id int, customer_name varchar, cashier_name varchar, year int)')\n",
    "postgres.insert_rows(table_name='transactions', columns='(transaction_id, customer_name, cashier_name, year)', \n",
    "                     rows=[\n",
    "                           (1, 'Amanda', 'Sam', 2000),\n",
    "                           (2, 'Toby', 'Sam', 2000),\n",
    "                           (3, 'Max', 'Bob', 2018)\n",
    "                          ]\n",
    "                    )\n",
    "postgres.print_rows(table_name='transactions')"
   ]
  },
  {
   "cell_type": "code",
   "execution_count": 6,
   "metadata": {},
   "outputs": [
    {
     "name": "stdout",
     "output_type": "stream",
     "text": [
      "Table named albums created\n",
      "(1, 1, 'Rubber Soul')\n",
      "(2, 1, 'Let it Be')\n",
      "(3, 2, 'My Generation')\n",
      "(4, 3, 'Meet the Beatles')\n",
      "(5, 3, 'Help!')\n"
     ]
    }
   ],
   "source": [
    "postgres.create_table(table_name='albums', schema='(album_id int, transaction_id int, album_purchased varchar)')\n",
    "postgres.insert_rows(table_name='albums', columns='(album_id, transaction_id, album_purchased)', \n",
    "                     rows=[\n",
    "                           (1, 1, 'Rubber Soul'),\n",
    "                           (2, 1, 'Let it Be'),\n",
    "                           (3, 2, 'My Generation'),\n",
    "                           (4, 3, 'Meet the Beatles'),\n",
    "                           (5, 3, 'Help!')\n",
    "                          ]\n",
    "                    )\n",
    "postgres.print_rows(table_name='albums')"
   ]
  },
  {
   "cell_type": "markdown",
   "metadata": {},
   "source": [
    "##### Join these tables to get all the information in the original first table"
   ]
  },
  {
   "cell_type": "code",
   "execution_count": 4,
   "metadata": {},
   "outputs": [
    {
     "data": {
      "text/plain": [
       "[(1, 'Amanda', 'Sam', 2000, 1, 'Rubber Soul'),\n",
       " (1, 'Amanda', 'Sam', 2000, 2, 'Let it Be'),\n",
       " (2, 'Toby', 'Sam', 2000, 3, 'My Generation'),\n",
       " (3, 'Max', 'Bob', 2018, 4, 'Meet the Beatles'),\n",
       " (3, 'Max', 'Bob', 2018, 5, 'Help!')]"
      ]
     },
     "execution_count": 4,
     "metadata": {},
     "output_type": "execute_result"
    }
   ],
   "source": [
    "postgres.custom_query(query='SELECT * FROM transactions JOIN albums USING (transaction_id)')"
   ]
  },
  {
   "cell_type": "markdown",
   "metadata": {},
   "source": [
    "#### Moving to 3rd Normal Form (3NF)"
   ]
  },
  {
   "cell_type": "markdown",
   "metadata": {
    "tags": []
   },
   "source": [
    "`Table Name: transactions` \\\n",
    "`column 0: Transaction Id` \\\n",
    "`column 1: Customer Name` \\\n",
    "`column 2: Cashier Id` \\\n",
    "`column 3: Year` \\\n",
    "`column 4: Albums Purchased` \n",
    "\n",
    "`Table Name: albums` \\\n",
    "`column 0: Album Id` \\\n",
    "`column 1: Transaction Id` \\\n",
    "`column 2: Album Purchased`\n",
    "\n",
    "`Table Name: employees` \\\n",
    "`column 0: Employee Id` \\\n",
    "`column 1: Cashier Name` \n",
    "\n",
    "<img src=\"../../../images/normalized_3nf.png\" width=\"650\" height=\"650\">"
   ]
  },
  {
   "cell_type": "code",
   "execution_count": 8,
   "metadata": {},
   "outputs": [
    {
     "name": "stdout",
     "output_type": "stream",
     "text": [
      "Table named employees created\n",
      "(1, 'Sam')\n",
      "(2, 'Bob')\n"
     ]
    }
   ],
   "source": [
    "postgres.create_table(table_name='employees', schema='(employee_id int, cashier_name varchar)')\n",
    "postgres.insert_rows(table_name='employees', columns='(employee_id, cashier_name)', \n",
    "                     rows=[\n",
    "                           (1, 'Sam'),\n",
    "                           (2, 'Bob'),\n",
    "                          ]\n",
    "                    )\n",
    "postgres.print_rows(table_name='employees')"
   ]
  },
  {
   "cell_type": "code",
   "execution_count": 9,
   "metadata": {},
   "outputs": [
    {
     "name": "stdout",
     "output_type": "stream",
     "text": [
      "Dropped table transactions\n"
     ]
    }
   ],
   "source": [
    "postgres.drop_table(table_name='transactions')"
   ]
  },
  {
   "cell_type": "code",
   "execution_count": 10,
   "metadata": {},
   "outputs": [
    {
     "name": "stdout",
     "output_type": "stream",
     "text": [
      "Table named transactions created\n",
      "(1, 'Amanda', 1, 2000)\n",
      "(2, 'Toby', 1, 2000)\n",
      "(3, 'Max', 2, 2018)\n"
     ]
    }
   ],
   "source": [
    "postgres.create_table(table_name='transactions', schema='(transaction_id int, customer_name varchar, cashier_id int, year int)')\n",
    "postgres.insert_rows(table_name='transactions', columns='(transaction_id, customer_name, cashier_id, year)', \n",
    "                     rows=[\n",
    "                           (1, 'Amanda', 1, 2000),\n",
    "                           (2, 'Toby', 1, 2000),\n",
    "                           (3, 'Max', 2, 2018)\n",
    "                          ]\n",
    "                    )\n",
    "postgres.print_rows(table_name='transactions')"
   ]
  },
  {
   "cell_type": "markdown",
   "metadata": {},
   "source": [
    "##### Join these 3 tables so we can get all the information we had in our first table"
   ]
  },
  {
   "cell_type": "code",
   "execution_count": 11,
   "metadata": {},
   "outputs": [
    {
     "data": {
      "text/plain": [
       "[(1, 'Amanda', 1, 2000, 1, 'Rubber Soul', 1, 'Sam'),\n",
       " (1, 'Amanda', 1, 2000, 2, 'Let it Be', 1, 'Sam'),\n",
       " (2, 'Toby', 1, 2000, 3, 'My Generation', 1, 'Sam'),\n",
       " (3, 'Max', 2, 2018, 4, 'Meet the Beatles', 2, 'Bob'),\n",
       " (3, 'Max', 2, 2018, 5, 'Help!', 2, 'Bob')]"
      ]
     },
     "execution_count": 11,
     "metadata": {},
     "output_type": "execute_result"
    }
   ],
   "source": [
    "postgres.custom_query(query='SELECT * FROM transactions JOIN albums USING (transaction_id) JOIN employees ON transactions.cashier_id = employees.employee_id')"
   ]
  },
  {
   "cell_type": "markdown",
   "metadata": {},
   "source": [
    "#### Finally close your cursor and connection"
   ]
  },
  {
   "cell_type": "code",
   "execution_count": 4,
   "metadata": {},
   "outputs": [
    {
     "name": "stdout",
     "output_type": "stream",
     "text": [
      "Closed cursor\n",
      "Closed connection\n"
     ]
    }
   ],
   "source": [
    "postgres.close_connection()"
   ]
  }
 ],
 "metadata": {
  "kernelspec": {
   "display_name": "Python 3 (ipykernel)",
   "language": "python",
   "name": "python3"
  },
  "language_info": {
   "codemirror_mode": {
    "name": "ipython",
    "version": 3
   },
   "file_extension": ".py",
   "mimetype": "text/x-python",
   "name": "python",
   "nbconvert_exporter": "python",
   "pygments_lexer": "ipython3",
   "version": "3.8.10"
  }
 },
 "nbformat": 4,
 "nbformat_minor": 4
}
