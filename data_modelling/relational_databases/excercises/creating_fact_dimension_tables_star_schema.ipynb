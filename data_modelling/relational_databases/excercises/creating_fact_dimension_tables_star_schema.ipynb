{
 "cells": [
  {
   "cell_type": "markdown",
   "metadata": {},
   "source": [
    "# Lesson 2 Exercise 3: Creating Fact and Dimension Tables with Star Schema\n",
    "\n",
    "<img src=\"../../../images/postgre_sql_logo.png\" width=\"250\" height=\"250\">"
   ]
  },
  {
   "cell_type": "code",
   "execution_count": 3,
   "metadata": {},
   "outputs": [],
   "source": [
    "from src.utils.postgres.generic_commands import PostgresCommands"
   ]
  },
  {
   "cell_type": "markdown",
   "metadata": {},
   "source": [
    "##### Create a connection to the database, get a cursor, and set autocommit to true"
   ]
  },
  {
   "cell_type": "code",
   "execution_count": 4,
   "metadata": {},
   "outputs": [
    {
     "name": "stdout",
     "output_type": "stream",
     "text": [
      "PostgresCommands class initiated\n"
     ]
    }
   ],
   "source": [
    "postgres = PostgresCommands()"
   ]
  },
  {
   "cell_type": "code",
   "execution_count": 6,
   "metadata": {},
   "outputs": [
    {
     "name": "stdout",
     "output_type": "stream",
     "text": [
      "Connection established with nano_data_engineering_db\n"
     ]
    }
   ],
   "source": [
    "postgres.connect(host='localhost', port='5432', database_name='nano_data_engineering_db', user='postgres', password='###', autocommit=True)"
   ]
  },
  {
   "cell_type": "markdown",
   "metadata": {},
   "source": [
    "##### Imagine you work at an online Music Store. There will be many tables in our database, but let's just focus on 4 tables around customer purchases. \n",
    "\n",
    "<img src=\"../../../images/star_schema.png\" width=\"750\" height=\"750\">\n",
    "\n",
    "##### From this representation you can start to see the makings of a \"STAR\". You will have one fact table (the center of the star) and 3  dimension tables that are coming from it."
   ]
  },
  {
   "cell_type": "markdown",
   "metadata": {},
   "source": [
    "##### Create the Fact table and insert the data into the table"
   ]
  },
  {
   "cell_type": "code",
   "execution_count": 18,
   "metadata": {},
   "outputs": [
    {
     "name": "stdout",
     "output_type": "stream",
     "text": [
      "Table named customer_transactions created\n",
      "(1, 1, 20.5)\n",
      "(2, 1, 35.21)\n"
     ]
    }
   ],
   "source": [
    "postgres.create_table(table_name='customer_transactions', schema='(customer_id int, store_id int, spent float)')\n",
    "\n",
    "postgres.insert_rows(table_name='customer_transactions', \n",
    "                     columns='(customer_id, store_id, spent)',\n",
    "                     rows=[\n",
    "                           (1, 1, 20.50),\n",
    "                           (2, 1, 35.21)\n",
    "                          ]\n",
    "                    )\n",
    "\n",
    "postgres.print_rows(table_name='customer_transactions')"
   ]
  },
  {
   "cell_type": "markdown",
   "metadata": {},
   "source": [
    "##### Create the Dimension tables and insert the data into the table"
   ]
  },
  {
   "cell_type": "code",
   "execution_count": 28,
   "metadata": {},
   "outputs": [
    {
     "name": "stdout",
     "output_type": "stream",
     "text": [
      "Table named customer created\n",
      "(1, 'Amanda', 'Y')\n",
      "(2, 'Toby', 'N')\n",
      "Table named items_purchased created\n",
      "(1, 1, 'Rubber Soul')\n",
      "(2, 3, 'Let It Be')\n",
      "Table named store created\n",
      "(1, 'CA')\n",
      "(2, 'WA')\n"
     ]
    }
   ],
   "source": [
    "# Customer\n",
    "postgres.create_table(table_name='customer', schema='(customer_id int, name text, rewards text)')\n",
    "\n",
    "postgres.insert_rows(table_name='customer', \n",
    "                     columns='(customer_id, name, rewards)',\n",
    "                     rows=[\n",
    "                           (1, 'Amanda', 'Y'),\n",
    "                           (2, 'Toby', 'N')\n",
    "                          ]\n",
    "                    )\n",
    "\n",
    "postgres.print_rows(table_name='customer')\n",
    "\n",
    "# Items purchased\n",
    "postgres.create_table(table_name='items_purchased', schema='(customer_id int, item_number int, item_name text)')\n",
    "\n",
    "postgres.insert_rows(table_name='items_purchased', \n",
    "                     columns='(customer_id, item_number, item_name)',\n",
    "                     rows=[\n",
    "                           (1, 1, 'Rubber Soul'),\n",
    "                           (2, 3, 'Let It Be')\n",
    "                          ]\n",
    "                    )\n",
    "\n",
    "postgres.print_rows(table_name='items_purchased')\n",
    "\n",
    "# Store\n",
    "postgres.create_table(table_name='store', schema='(store_id int, state text)')\n",
    "\n",
    "postgres.insert_rows(table_name='store', \n",
    "                     columns='(store_id, state)',\n",
    "                     rows=[\n",
    "                           (1, 'CA'),\n",
    "                           (2, 'WA')\n",
    "                          ]\n",
    "                    )\n",
    "\n",
    "postgres.print_rows(table_name='store')"
   ]
  },
  {
   "cell_type": "markdown",
   "metadata": {
    "tags": []
   },
   "source": [
    "### Now run the following queries on this data easily because of utilizing the Fact/ Dimension and Star Schema\n",
    " \n",
    "##### Query 1: Find all the customers that spent more than 30 dollars, who are they, which store they bought it from, location of the store, what they bought and if they are a rewards member.\n"
   ]
  },
  {
   "cell_type": "code",
   "execution_count": 35,
   "metadata": {},
   "outputs": [
    {
     "data": {
      "text/plain": [
       "[('Toby', 1, 'CA', 'Let It Be', 'N')]"
      ]
     },
     "execution_count": 35,
     "metadata": {},
     "output_type": "execute_result"
    }
   ],
   "source": [
    "postgres.custom_query(query=\"\"\"\n",
    "                            SELECT \n",
    "                                name,\n",
    "                                store_id,\n",
    "                                state,\n",
    "                                item_name,\n",
    "                                rewards\n",
    "                            FROM customer_transactions\n",
    "                            LEFT JOIN customer\n",
    "                            USING (customer_id)\n",
    "                            LEFT JOIN items_purchased\n",
    "                            USING (customer_id)\n",
    "                            LEFT JOIN store\n",
    "                            USING (store_id)\n",
    "                            WHERE spent > 30\n",
    "                            \"\"\"\n",
    "                     )"
   ]
  },
  {
   "cell_type": "markdown",
   "metadata": {},
   "source": [
    "##### Query 2: How much did Customer 2 spend?"
   ]
  },
  {
   "cell_type": "code",
   "execution_count": 36,
   "metadata": {},
   "outputs": [
    {
     "data": {
      "text/plain": [
       "[(2, 35.21)]"
      ]
     },
     "execution_count": 36,
     "metadata": {},
     "output_type": "execute_result"
    }
   ],
   "source": [
    "postgres.custom_query(query=\"\"\"\n",
    "                            SELECT \n",
    "                                customer_id,\n",
    "                                SUM(spent) AS spent\n",
    "                            FROM customer_transactions\n",
    "                            WHERE customer_id = 2\n",
    "                            GROUP BY 1\n",
    "                            \"\"\"\n",
    "                     )"
   ]
  },
  {
   "cell_type": "markdown",
   "metadata": {},
   "source": [
    "##### And finally close your cursor and connection. "
   ]
  },
  {
   "cell_type": "code",
   "execution_count": 37,
   "metadata": {},
   "outputs": [
    {
     "name": "stdout",
     "output_type": "stream",
     "text": [
      "Closed cursor\n",
      "Closed connection\n"
     ]
    }
   ],
   "source": [
    "postgres.close_connection()"
   ]
  }
 ],
 "metadata": {
  "kernelspec": {
   "display_name": "Python 3 (ipykernel)",
   "language": "python",
   "name": "python3"
  },
  "language_info": {
   "codemirror_mode": {
    "name": "ipython",
    "version": 3
   },
   "file_extension": ".py",
   "mimetype": "text/x-python",
   "name": "python",
   "nbconvert_exporter": "python",
   "pygments_lexer": "ipython3",
   "version": "3.8.10"
  }
 },
 "nbformat": 4,
 "nbformat_minor": 4
}
